{
 "cells": [
  {
   "cell_type": "markdown",
   "metadata": {},
   "source": [
    "# How Powerful are Graph Neural Networks?\n",
    "\n",
    "The code is adapted from the [author's codebase](https://github.com/weihua916/powerful-gnns) by Mingyu Derek Ma"
   ]
  },
  {
   "cell_type": "markdown",
   "metadata": {},
   "source": [
    "## Installation\n",
    "\n",
    "Download `dataset.zip` from author's Github repo, unzip it and locate it at the same directory as this notebook. Install the following packages if not yet do so."
   ]
  },
  {
   "cell_type": "code",
   "execution_count": 1,
   "metadata": {},
   "outputs": [
    {
     "name": "stdout",
     "output_type": "stream",
     "text": [
      "Requirement already satisfied: torch in /nas/home/mingyuma/miniconda3/lib/python3.7/site-packages (1.3.0)\n",
      "Requirement already satisfied: torchvision in /nas/home/mingyuma/miniconda3/lib/python3.7/site-packages (0.4.1a0+d94043a)\n",
      "Collecting torchaudio\n",
      "\u001b[?25l  Downloading https://files.pythonhosted.org/packages/37/16/ecdb9eb09ec6b8133d6c9536ea9e49cd13c9b5873c8488b8b765a39028da/torchaudio-0.7.2-cp37-cp37m-manylinux1_x86_64.whl (7.6MB)\n",
      "\u001b[K     |████████████████████████████████| 7.6MB 4.8MB/s eta 0:00:01     |██████████▌                     | 2.5MB 4.8MB/s eta 0:00:02     |██████████████▌                 | 3.5MB 4.8MB/s eta 0:00:01     |█████████████████████████▋      | 6.1MB 4.8MB/s eta 0:00:01\n",
      "\u001b[?25hRequirement already satisfied: tqdm in /nas/home/mingyuma/miniconda3/lib/python3.7/site-packages (4.36.1)\n",
      "Requirement already satisfied: numpy in /nas/home/mingyuma/miniconda3/lib/python3.7/site-packages (1.17.2)\n",
      "Requirement already satisfied: networkx in /nas/home/mingyuma/miniconda3/lib/python3.7/site-packages (2.4)\n",
      "Collecting sklearn\n",
      "  Using cached https://files.pythonhosted.org/packages/1e/7a/dbb3be0ce9bd5c8b7e3d87328e79063f8b263b2b1bfa4774cb1147bfcd3f/sklearn-0.0.tar.gz\n",
      "Requirement already satisfied: six in /nas/home/mingyuma/miniconda3/lib/python3.7/site-packages (from torchvision) (1.12.0)\n",
      "Requirement already satisfied: pillow>=4.1.1 in /nas/home/mingyuma/miniconda3/lib/python3.7/site-packages (from torchvision) (6.2.0)\n",
      "Requirement already satisfied: decorator>=4.3.0 in /nas/home/mingyuma/miniconda3/lib/python3.7/site-packages (from networkx) (4.4.1)\n",
      "Requirement already satisfied: scikit-learn in /nas/home/mingyuma/miniconda3/lib/python3.7/site-packages (from sklearn) (0.21.3)\n",
      "Requirement already satisfied: joblib>=0.11 in /nas/home/mingyuma/miniconda3/lib/python3.7/site-packages (from scikit-learn->sklearn) (0.14.0)\n",
      "Requirement already satisfied: scipy>=0.17.0 in /nas/home/mingyuma/miniconda3/lib/python3.7/site-packages (from scikit-learn->sklearn) (1.3.1)\n",
      "Building wheels for collected packages: sklearn\n",
      "  Building wheel for sklearn (setup.py) ... \u001b[?25ldone\n",
      "\u001b[?25h  Created wheel for sklearn: filename=sklearn-0.0-py2.py3-none-any.whl size=1316 sha256=7649219d00f6ed6375ef53781cd055a5f6ff037b2e821e6119650c9c4c65d14c\n",
      "  Stored in directory: /nas/home/mingyuma/.cache/pip/wheels/76/03/bb/589d421d27431bcd2c6da284d5f2286c8e3b2ea3cf1594c074\n",
      "Successfully built sklearn\n",
      "\u001b[31mERROR: torchaudio 0.7.2 has requirement torch==1.7.1, but you'll have torch 1.3.0 which is incompatible.\u001b[0m\n",
      "Installing collected packages: torchaudio, sklearn\n",
      "Successfully installed sklearn-0.0 torchaudio-0.7.2\n"
     ]
    }
   ],
   "source": [
    "!pip install torch torchvision torchaudio tqdm numpy networkx sklearn"
   ]
  },
  {
   "cell_type": "code",
   "execution_count": 2,
   "metadata": {},
   "outputs": [],
   "source": [
    "import networkx as nx\n",
    "import numpy as np\n",
    "import random\n",
    "import argparse\n",
    "import torch\n",
    "import torch.nn as nn\n",
    "import torch.nn.functional as F\n",
    "import torch.optim as optim\n",
    "from sklearn.model_selection import StratifiedKFold\n",
    "import numpy as np\n",
    "from tqdm import tqdm\n",
    "import sys\n",
    "sys.path.append(\"models/\")"
   ]
  },
  {
   "cell_type": "markdown",
   "metadata": {},
   "source": [
    "## Models\n",
    "Define classes for MLP and GraphCNN"
   ]
  },
  {
   "cell_type": "code",
   "execution_count": 3,
   "metadata": {},
   "outputs": [],
   "source": [
    "###MLP with lienar output\n",
    "class MLP(nn.Module):\n",
    "    def __init__(self, num_layers, input_dim, hidden_dim, output_dim):\n",
    "        '''\n",
    "            num_layers: number of layers in the neural networks (EXCLUDING the input layer). If num_layers=1, this reduces to linear model.\n",
    "            input_dim: dimensionality of input features\n",
    "            hidden_dim: dimensionality of hidden units at ALL layers\n",
    "            output_dim: number of classes for prediction\n",
    "            device: which device to use\n",
    "        '''\n",
    "    \n",
    "        super(MLP, self).__init__()\n",
    "\n",
    "        self.linear_or_not = True #default is linear model\n",
    "        self.num_layers = num_layers\n",
    "\n",
    "        if num_layers < 1:\n",
    "            raise ValueError(\"number of layers should be positive!\")\n",
    "        elif num_layers == 1:\n",
    "            #Linear model\n",
    "            self.linear = nn.Linear(input_dim, output_dim)\n",
    "        else:\n",
    "            #Multi-layer model\n",
    "            self.linear_or_not = False\n",
    "            self.linears = torch.nn.ModuleList()\n",
    "            self.batch_norms = torch.nn.ModuleList()\n",
    "        \n",
    "            self.linears.append(nn.Linear(input_dim, hidden_dim))\n",
    "            for layer in range(num_layers - 2):\n",
    "                self.linears.append(nn.Linear(hidden_dim, hidden_dim))\n",
    "            self.linears.append(nn.Linear(hidden_dim, output_dim))\n",
    "\n",
    "            for layer in range(num_layers - 1):\n",
    "                self.batch_norms.append(nn.BatchNorm1d((hidden_dim)))\n",
    "\n",
    "    def forward(self, x):\n",
    "        if self.linear_or_not:\n",
    "            #If linear model\n",
    "            return self.linear(x)\n",
    "        else:\n",
    "            #If MLP\n",
    "            h = x\n",
    "            for layer in range(self.num_layers - 1):\n",
    "                h = F.relu(self.batch_norms[layer](self.linears[layer](h)))\n",
    "            return self.linears[self.num_layers - 1](h)"
   ]
  },
  {
   "cell_type": "code",
   "execution_count": 4,
   "metadata": {},
   "outputs": [],
   "source": [
    "class GraphCNN(nn.Module):\n",
    "    def __init__(self, num_layers, num_mlp_layers, input_dim, hidden_dim, output_dim, final_dropout, learn_eps, graph_pooling_type, neighbor_pooling_type, device):\n",
    "        '''\n",
    "            num_layers: number of layers in the neural networks (INCLUDING the input layer)\n",
    "            num_mlp_layers: number of layers in mlps (EXCLUDING the input layer)\n",
    "            input_dim: dimensionality of input features\n",
    "            hidden_dim: dimensionality of hidden units at ALL layers\n",
    "            output_dim: number of classes for prediction\n",
    "            final_dropout: dropout ratio on the final linear layer\n",
    "            learn_eps: If True, learn epsilon to distinguish center nodes from neighboring nodes. If False, aggregate neighbors and center nodes altogether. \n",
    "            neighbor_pooling_type: how to aggregate neighbors (mean, average, or max)\n",
    "            graph_pooling_type: how to aggregate entire nodes in a graph (mean, average)\n",
    "            device: which device to use\n",
    "        '''\n",
    "\n",
    "        super(GraphCNN, self).__init__()\n",
    "\n",
    "        self.final_dropout = final_dropout\n",
    "        self.device = device\n",
    "        self.num_layers = num_layers\n",
    "        self.graph_pooling_type = graph_pooling_type\n",
    "        self.neighbor_pooling_type = neighbor_pooling_type\n",
    "        self.learn_eps = learn_eps\n",
    "        self.eps = nn.Parameter(torch.zeros(self.num_layers-1))\n",
    "\n",
    "        ###List of MLPs\n",
    "        self.mlps = torch.nn.ModuleList()\n",
    "\n",
    "        ###List of batchnorms applied to the output of MLP (input of the final prediction linear layer)\n",
    "        self.batch_norms = torch.nn.ModuleList()\n",
    "\n",
    "        for layer in range(self.num_layers-1):\n",
    "            if layer == 0:\n",
    "                self.mlps.append(MLP(num_mlp_layers, input_dim, hidden_dim, hidden_dim))\n",
    "            else:\n",
    "                self.mlps.append(MLP(num_mlp_layers, hidden_dim, hidden_dim, hidden_dim))\n",
    "\n",
    "            self.batch_norms.append(nn.BatchNorm1d(hidden_dim))\n",
    "\n",
    "        #Linear function that maps the hidden representation at dofferemt layers into a prediction score\n",
    "        self.linears_prediction = torch.nn.ModuleList()\n",
    "        for layer in range(num_layers):\n",
    "            if layer == 0:\n",
    "                self.linears_prediction.append(nn.Linear(input_dim, output_dim))\n",
    "            else:\n",
    "                self.linears_prediction.append(nn.Linear(hidden_dim, output_dim))\n",
    "\n",
    "\n",
    "    def __preprocess_neighbors_maxpool(self, batch_graph):\n",
    "        ###create padded_neighbor_list in concatenated graph\n",
    "\n",
    "        #compute the maximum number of neighbors within the graphs in the current minibatch\n",
    "        max_deg = max([graph.max_neighbor for graph in batch_graph])\n",
    "\n",
    "        padded_neighbor_list = []\n",
    "        start_idx = [0]\n",
    "\n",
    "\n",
    "        for i, graph in enumerate(batch_graph):\n",
    "            start_idx.append(start_idx[i] + len(graph.g))\n",
    "            padded_neighbors = []\n",
    "            for j in range(len(graph.neighbors)):\n",
    "                #add off-set values to the neighbor indices\n",
    "                pad = [n + start_idx[i] for n in graph.neighbors[j]]\n",
    "                #padding, dummy data is assumed to be stored in -1\n",
    "                pad.extend([-1]*(max_deg - len(pad)))\n",
    "\n",
    "                #Add center nodes in the maxpooling if learn_eps is False, i.e., aggregate center nodes and neighbor nodes altogether.\n",
    "                if not self.learn_eps:\n",
    "                    pad.append(j + start_idx[i])\n",
    "\n",
    "                padded_neighbors.append(pad)\n",
    "            padded_neighbor_list.extend(padded_neighbors)\n",
    "\n",
    "        return torch.LongTensor(padded_neighbor_list)\n",
    "\n",
    "\n",
    "    def __preprocess_neighbors_sumavepool(self, batch_graph):\n",
    "        ###create block diagonal sparse matrix\n",
    "\n",
    "        edge_mat_list = []\n",
    "        start_idx = [0]\n",
    "        for i, graph in enumerate(batch_graph):\n",
    "            start_idx.append(start_idx[i] + len(graph.g))\n",
    "            edge_mat_list.append(graph.edge_mat + start_idx[i])\n",
    "        Adj_block_idx = torch.cat(edge_mat_list, 1)\n",
    "        Adj_block_elem = torch.ones(Adj_block_idx.shape[1])\n",
    "\n",
    "        #Add self-loops in the adjacency matrix if learn_eps is False, i.e., aggregate center nodes and neighbor nodes altogether.\n",
    "\n",
    "        if not self.learn_eps:\n",
    "            num_node = start_idx[-1]\n",
    "            self_loop_edge = torch.LongTensor([range(num_node), range(num_node)])\n",
    "            elem = torch.ones(num_node)\n",
    "            Adj_block_idx = torch.cat([Adj_block_idx, self_loop_edge], 1)\n",
    "            Adj_block_elem = torch.cat([Adj_block_elem, elem], 0)\n",
    "\n",
    "        Adj_block = torch.sparse.FloatTensor(Adj_block_idx, Adj_block_elem, torch.Size([start_idx[-1],start_idx[-1]]))\n",
    "\n",
    "        return Adj_block.to(self.device)\n",
    "\n",
    "\n",
    "    def __preprocess_graphpool(self, batch_graph):\n",
    "        ###create sum or average pooling sparse matrix over entire nodes in each graph (num graphs x num nodes)\n",
    "        \n",
    "        start_idx = [0]\n",
    "\n",
    "        #compute the padded neighbor list\n",
    "        for i, graph in enumerate(batch_graph):\n",
    "            start_idx.append(start_idx[i] + len(graph.g))\n",
    "\n",
    "        idx = []\n",
    "        elem = []\n",
    "        for i, graph in enumerate(batch_graph):\n",
    "            ###average pooling\n",
    "            if self.graph_pooling_type == \"average\":\n",
    "                elem.extend([1./len(graph.g)]*len(graph.g))\n",
    "            \n",
    "            else:\n",
    "            ###sum pooling\n",
    "                elem.extend([1]*len(graph.g))\n",
    "\n",
    "            idx.extend([[i, j] for j in range(start_idx[i], start_idx[i+1], 1)])\n",
    "        elem = torch.FloatTensor(elem)\n",
    "        idx = torch.LongTensor(idx).transpose(0,1)\n",
    "        graph_pool = torch.sparse.FloatTensor(idx, elem, torch.Size([len(batch_graph), start_idx[-1]]))\n",
    "        \n",
    "        return graph_pool.to(self.device)\n",
    "\n",
    "    def maxpool(self, h, padded_neighbor_list):\n",
    "        ###Element-wise minimum will never affect max-pooling\n",
    "\n",
    "        dummy = torch.min(h, dim = 0)[0]\n",
    "        h_with_dummy = torch.cat([h, dummy.reshape((1, -1)).to(self.device)])\n",
    "        pooled_rep = torch.max(h_with_dummy[padded_neighbor_list], dim = 1)[0]\n",
    "        return pooled_rep\n",
    "\n",
    "\n",
    "    def next_layer_eps(self, h, layer, padded_neighbor_list = None, Adj_block = None):\n",
    "        ###pooling neighboring nodes and center nodes separately by epsilon reweighting. \n",
    "\n",
    "        if self.neighbor_pooling_type == \"max\":\n",
    "            ##If max pooling\n",
    "            pooled = self.maxpool(h, padded_neighbor_list)\n",
    "        else:\n",
    "            #If sum or average pooling\n",
    "            pooled = torch.spmm(Adj_block, h)\n",
    "            if self.neighbor_pooling_type == \"average\":\n",
    "                #If average pooling\n",
    "                degree = torch.spmm(Adj_block, torch.ones((Adj_block.shape[0], 1)).to(self.device))\n",
    "                pooled = pooled/degree\n",
    "\n",
    "        #Reweights the center node representation when aggregating it with its neighbors\n",
    "        pooled = pooled + (1 + self.eps[layer])*h\n",
    "        pooled_rep = self.mlps[layer](pooled)\n",
    "        h = self.batch_norms[layer](pooled_rep)\n",
    "\n",
    "        #non-linearity\n",
    "        h = F.relu(h)\n",
    "        return h\n",
    "\n",
    "\n",
    "    def next_layer(self, h, layer, padded_neighbor_list = None, Adj_block = None):\n",
    "        ###pooling neighboring nodes and center nodes altogether  \n",
    "            \n",
    "        if self.neighbor_pooling_type == \"max\":\n",
    "            ##If max pooling\n",
    "            pooled = self.maxpool(h, padded_neighbor_list)\n",
    "        else:\n",
    "            #If sum or average pooling\n",
    "            pooled = torch.spmm(Adj_block, h)\n",
    "            if self.neighbor_pooling_type == \"average\":\n",
    "                #If average pooling\n",
    "                degree = torch.spmm(Adj_block, torch.ones((Adj_block.shape[0], 1)).to(self.device))\n",
    "                pooled = pooled/degree\n",
    "\n",
    "        #representation of neighboring and center nodes \n",
    "        pooled_rep = self.mlps[layer](pooled)\n",
    "\n",
    "        h = self.batch_norms[layer](pooled_rep)\n",
    "\n",
    "        #non-linearity\n",
    "        h = F.relu(h)\n",
    "        return h\n",
    "\n",
    "\n",
    "    def forward(self, batch_graph):\n",
    "        X_concat = torch.cat([graph.node_features for graph in batch_graph], 0).to(self.device)\n",
    "        graph_pool = self.__preprocess_graphpool(batch_graph)\n",
    "\n",
    "        if self.neighbor_pooling_type == \"max\":\n",
    "            padded_neighbor_list = self.__preprocess_neighbors_maxpool(batch_graph)\n",
    "        else:\n",
    "            Adj_block = self.__preprocess_neighbors_sumavepool(batch_graph)\n",
    "\n",
    "        #list of hidden representation at each layer (including input)\n",
    "        hidden_rep = [X_concat]\n",
    "        h = X_concat\n",
    "\n",
    "        for layer in range(self.num_layers-1):\n",
    "            if self.neighbor_pooling_type == \"max\" and self.learn_eps:\n",
    "                h = self.next_layer_eps(h, layer, padded_neighbor_list = padded_neighbor_list)\n",
    "            elif not self.neighbor_pooling_type == \"max\" and self.learn_eps:\n",
    "                h = self.next_layer_eps(h, layer, Adj_block = Adj_block)\n",
    "            elif self.neighbor_pooling_type == \"max\" and not self.learn_eps:\n",
    "                h = self.next_layer(h, layer, padded_neighbor_list = padded_neighbor_list)\n",
    "            elif not self.neighbor_pooling_type == \"max\" and not self.learn_eps:\n",
    "                h = self.next_layer(h, layer, Adj_block = Adj_block)\n",
    "\n",
    "            hidden_rep.append(h)\n",
    "\n",
    "        score_over_layer = 0\n",
    "    \n",
    "        #perform pooling over all nodes in each graph in every layer\n",
    "        for layer, h in enumerate(hidden_rep):\n",
    "            pooled_h = torch.spmm(graph_pool, h)\n",
    "            score_over_layer += F.dropout(self.linears_prediction[layer](pooled_h), self.final_dropout, training = self.training)\n",
    "\n",
    "        return score_over_layer"
   ]
  },
  {
   "cell_type": "markdown",
   "metadata": {},
   "source": [
    "## Data Loader"
   ]
  },
  {
   "cell_type": "code",
   "execution_count": 5,
   "metadata": {},
   "outputs": [],
   "source": [
    "###pass data to model with minibatch during testing to avoid memory overflow (does not perform backpropagation)\n",
    "def pass_data_iteratively(model, graphs, minibatch_size = 64):\n",
    "    model.eval()\n",
    "    output = []\n",
    "    idx = np.arange(len(graphs))\n",
    "    for i in range(0, len(graphs), minibatch_size):\n",
    "        sampled_idx = idx[i:i+minibatch_size]\n",
    "        if len(sampled_idx) == 0:\n",
    "            continue\n",
    "        output.append(model([graphs[j] for j in sampled_idx]).detach())\n",
    "    return torch.cat(output, 0)"
   ]
  },
  {
   "cell_type": "markdown",
   "metadata": {},
   "source": [
    "## Utility Functions"
   ]
  },
  {
   "cell_type": "code",
   "execution_count": 6,
   "metadata": {},
   "outputs": [],
   "source": [
    "class S2VGraph(object):\n",
    "    def __init__(self, g, label, node_tags=None, node_features=None):\n",
    "        '''\n",
    "            g: a networkx graph\n",
    "            label: an integer graph label\n",
    "            node_tags: a list of integer node tags\n",
    "            node_features: a torch float tensor, one-hot representation of the tag that is used as input to neural nets\n",
    "            edge_mat: a torch long tensor, contain edge list, will be used to create torch sparse tensor\n",
    "            neighbors: list of neighbors (without self-loop)\n",
    "        '''\n",
    "        self.label = label\n",
    "        self.g = g\n",
    "        self.node_tags = node_tags\n",
    "        self.neighbors = []\n",
    "        self.node_features = 0\n",
    "        self.edge_mat = 0\n",
    "\n",
    "        self.max_neighbor = 0\n",
    "\n",
    "\n",
    "def load_data(dataset, degree_as_tag):\n",
    "    '''\n",
    "        dataset: name of dataset\n",
    "        test_proportion: ratio of test train split\n",
    "        seed: random seed for random splitting of dataset\n",
    "    '''\n",
    "\n",
    "    print('loading data')\n",
    "    g_list = []\n",
    "    label_dict = {}\n",
    "    feat_dict = {}\n",
    "\n",
    "    with open('dataset/%s/%s.txt' % (dataset, dataset), 'r') as f:\n",
    "        n_g = int(f.readline().strip())\n",
    "        for i in range(n_g):\n",
    "            row = f.readline().strip().split()\n",
    "            n, l = [int(w) for w in row]\n",
    "            if not l in label_dict:\n",
    "                mapped = len(label_dict)\n",
    "                label_dict[l] = mapped\n",
    "            g = nx.Graph()\n",
    "            node_tags = []\n",
    "            node_features = []\n",
    "            n_edges = 0\n",
    "            for j in range(n):\n",
    "                g.add_node(j)\n",
    "                row = f.readline().strip().split()\n",
    "                tmp = int(row[1]) + 2\n",
    "                if tmp == len(row):\n",
    "                    # no node attributes\n",
    "                    row = [int(w) for w in row]\n",
    "                    attr = None\n",
    "                else:\n",
    "                    row, attr = [int(w) for w in row[:tmp]], np.array([float(w) for w in row[tmp:]])\n",
    "                if not row[0] in feat_dict:\n",
    "                    mapped = len(feat_dict)\n",
    "                    feat_dict[row[0]] = mapped\n",
    "                node_tags.append(feat_dict[row[0]])\n",
    "\n",
    "                if tmp > len(row):\n",
    "                    node_features.append(attr)\n",
    "\n",
    "                n_edges += row[1]\n",
    "                for k in range(2, len(row)):\n",
    "                    g.add_edge(j, row[k])\n",
    "\n",
    "            if node_features != []:\n",
    "                node_features = np.stack(node_features)\n",
    "                node_feature_flag = True\n",
    "            else:\n",
    "                node_features = None\n",
    "                node_feature_flag = False\n",
    "\n",
    "            assert len(g) == n\n",
    "\n",
    "            g_list.append(S2VGraph(g, l, node_tags))\n",
    "\n",
    "    #add labels and edge_mat       \n",
    "    for g in g_list:\n",
    "        g.neighbors = [[] for i in range(len(g.g))]\n",
    "        for i, j in g.g.edges():\n",
    "            g.neighbors[i].append(j)\n",
    "            g.neighbors[j].append(i)\n",
    "        degree_list = []\n",
    "        for i in range(len(g.g)):\n",
    "            g.neighbors[i] = g.neighbors[i]\n",
    "            degree_list.append(len(g.neighbors[i]))\n",
    "        g.max_neighbor = max(degree_list)\n",
    "\n",
    "        g.label = label_dict[g.label]\n",
    "\n",
    "        edges = [list(pair) for pair in g.g.edges()]\n",
    "        edges.extend([[i, j] for j, i in edges])\n",
    "\n",
    "        deg_list = list(dict(g.g.degree(range(len(g.g)))).values())\n",
    "        g.edge_mat = torch.LongTensor(edges).transpose(0,1)\n",
    "\n",
    "    if degree_as_tag:\n",
    "        for g in g_list:\n",
    "            g.node_tags = list(dict(g.g.degree).values())\n",
    "\n",
    "    #Extracting unique tag labels   \n",
    "    tagset = set([])\n",
    "    for g in g_list:\n",
    "        tagset = tagset.union(set(g.node_tags))\n",
    "\n",
    "    tagset = list(tagset)\n",
    "    tag2index = {tagset[i]:i for i in range(len(tagset))}\n",
    "\n",
    "    for g in g_list:\n",
    "        g.node_features = torch.zeros(len(g.node_tags), len(tagset))\n",
    "        g.node_features[range(len(g.node_tags)), [tag2index[tag] for tag in g.node_tags]] = 1\n",
    "\n",
    "\n",
    "    print('# classes: %d' % len(label_dict))\n",
    "    print('# maximum node tag: %d' % len(tagset))\n",
    "\n",
    "    print(\"# data: %d\" % len(g_list))\n",
    "\n",
    "    return g_list, len(label_dict)\n",
    "\n",
    "def separate_data(graph_list, seed, fold_idx):\n",
    "    assert 0 <= fold_idx and fold_idx < 10, \"fold_idx must be from 0 to 9.\"\n",
    "    skf = StratifiedKFold(n_splits=10, shuffle = True, random_state = seed)\n",
    "\n",
    "    labels = [graph.label for graph in graph_list]\n",
    "    idx_list = []\n",
    "    for idx in skf.split(np.zeros(len(labels)), labels):\n",
    "        idx_list.append(idx)\n",
    "    train_idx, test_idx = idx_list[fold_idx]\n",
    "\n",
    "    train_graph_list = [graph_list[i] for i in train_idx]\n",
    "    test_graph_list = [graph_list[i] for i in test_idx]\n",
    "\n",
    "    return train_graph_list, test_graph_list"
   ]
  },
  {
   "cell_type": "markdown",
   "metadata": {},
   "source": [
    "## Train a Epoch"
   ]
  },
  {
   "cell_type": "code",
   "execution_count": 7,
   "metadata": {},
   "outputs": [],
   "source": [
    "criterion = nn.CrossEntropyLoss()\n",
    "\n",
    "def train(args, model, device, train_graphs, optimizer, epoch):\n",
    "    model.train()\n",
    "\n",
    "    total_iters = args.iters_per_epoch\n",
    "    pbar = tqdm(range(total_iters), unit='batch')\n",
    "\n",
    "    loss_accum = 0\n",
    "    for pos in pbar:\n",
    "        selected_idx = np.random.permutation(len(train_graphs))[:args.batch_size]\n",
    "\n",
    "        batch_graph = [train_graphs[idx] for idx in selected_idx]\n",
    "        output = model(batch_graph)\n",
    "\n",
    "        labels = torch.LongTensor([graph.label for graph in batch_graph]).to(device)\n",
    "\n",
    "        #compute loss\n",
    "        loss = criterion(output, labels)\n",
    "\n",
    "        #backprop\n",
    "        if optimizer is not None:\n",
    "            optimizer.zero_grad()\n",
    "            loss.backward()         \n",
    "            optimizer.step()\n",
    "        \n",
    "\n",
    "        loss = loss.detach().cpu().numpy()\n",
    "        loss_accum += loss\n",
    "\n",
    "        #report\n",
    "        pbar.set_description('epoch: %d' % (epoch))\n",
    "\n",
    "    average_loss = loss_accum/total_iters\n",
    "    print(\"loss training: %f\" % (average_loss))\n",
    "    \n",
    "    return average_loss"
   ]
  },
  {
   "cell_type": "markdown",
   "metadata": {},
   "source": [
    "## Test a Epoch"
   ]
  },
  {
   "cell_type": "code",
   "execution_count": 8,
   "metadata": {},
   "outputs": [],
   "source": [
    "def test(args, model, device, train_graphs, test_graphs, epoch):\n",
    "    model.eval()\n",
    "\n",
    "    output = pass_data_iteratively(model, train_graphs)\n",
    "    pred = output.max(1, keepdim=True)[1]\n",
    "    labels = torch.LongTensor([graph.label for graph in train_graphs]).to(device)\n",
    "    correct = pred.eq(labels.view_as(pred)).sum().cpu().item()\n",
    "    acc_train = correct / float(len(train_graphs))\n",
    "\n",
    "    output = pass_data_iteratively(model, test_graphs)\n",
    "    pred = output.max(1, keepdim=True)[1]\n",
    "    labels = torch.LongTensor([graph.label for graph in test_graphs]).to(device)\n",
    "    correct = pred.eq(labels.view_as(pred)).sum().cpu().item()\n",
    "    acc_test = correct / float(len(test_graphs))\n",
    "\n",
    "    print(\"accuracy train: %f test: %f\" % (acc_train, acc_test))\n",
    "\n",
    "    return acc_train, acc_test"
   ]
  },
  {
   "cell_type": "markdown",
   "metadata": {},
   "source": [
    "## Main Training and Testing Logic"
   ]
  },
  {
   "cell_type": "markdown",
   "metadata": {},
   "source": [
    "### Initialize arguments, data, model and optimizer\n",
    "The default argument configuration is for GIN"
   ]
  },
  {
   "cell_type": "code",
   "execution_count": 9,
   "metadata": {},
   "outputs": [
    {
     "name": "stdout",
     "output_type": "stream",
     "text": [
      "Namespace(batch_size=32, dataset='MUTAG', degree_as_tag=False, device=0, epochs=350, filename='', final_dropout=0.5, fold_idx=0, graph_pooling_type='sum', hidden_dim=64, iters_per_epoch=50, learn_eps=False, lr=0.01, neighbor_pooling_type='sum', num_layers=5, num_mlp_layers=2, seed=0)\n",
      "loading data\n",
      "# classes: 2\n",
      "# maximum node tag: 7\n",
      "# data: 188\n"
     ]
    }
   ],
   "source": [
    "# Training settings\n",
    "# Note: Hyper-parameters need to be tuned in order to obtain results reported in the paper.\n",
    "parser = argparse.ArgumentParser(description='PyTorch graph convolutional neural net for whole-graph classification')\n",
    "parser.add_argument('--dataset', type=str, default=\"MUTAG\",\n",
    "                    help='name of dataset (default: MUTAG)')\n",
    "parser.add_argument('--device', type=int, default=0,\n",
    "                    help='which gpu to use if any (default: 0)')\n",
    "parser.add_argument('--batch_size', type=int, default=32,\n",
    "                    help='input batch size for training (default: 32)')\n",
    "parser.add_argument('--iters_per_epoch', type=int, default=50,\n",
    "                    help='number of iterations per each epoch (default: 50)')\n",
    "parser.add_argument('--epochs', type=int, default=350,\n",
    "                    help='number of epochs to train (default: 350)')\n",
    "parser.add_argument('--lr', type=float, default=0.01,\n",
    "                    help='learning rate (default: 0.01)')\n",
    "parser.add_argument('--seed', type=int, default=0,\n",
    "                    help='random seed for splitting the dataset into 10 (default: 0)')\n",
    "parser.add_argument('--fold_idx', type=int, default=0,\n",
    "                    help='the index of fold in 10-fold validation. Should be less then 10.')\n",
    "parser.add_argument('--num_layers', type=int, default=5,\n",
    "                    help='number of layers INCLUDING the input one (default: 5)')\n",
    "parser.add_argument('--num_mlp_layers', type=int, default=2,\n",
    "                    help='number of layers for MLP EXCLUDING the input one (default: 2). 1 means linear model.')\n",
    "parser.add_argument('--hidden_dim', type=int, default=64,\n",
    "                    help='number of hidden units (default: 64)')\n",
    "parser.add_argument('--final_dropout', type=float, default=0.5,\n",
    "                    help='final layer dropout (default: 0.5)')\n",
    "parser.add_argument('--graph_pooling_type', type=str, default=\"sum\", choices=[\"sum\", \"average\"],\n",
    "                    help='Pooling for over nodes in a graph: sum or average')\n",
    "parser.add_argument('--neighbor_pooling_type', type=str, default=\"sum\", choices=[\"sum\", \"average\", \"max\"],\n",
    "                    help='Pooling for over neighboring nodes: sum, average or max')\n",
    "parser.add_argument('--learn_eps', action=\"store_true\",\n",
    "                                    help='Whether to learn the epsilon weighting for the center nodes. Does not affect training accuracy though.')\n",
    "parser.add_argument('--degree_as_tag', action=\"store_true\",\n",
    "                    help='let the input node features be the degree of nodes (heuristics for unlabeled graph)')\n",
    "parser.add_argument('--filename', type = str, default = \"\",\n",
    "                                    help='output file')\n",
    "args = parser.parse_args(args=[])\n",
    "\n",
    "print(args)\n",
    "\n",
    "#set up seeds and gpu device\n",
    "torch.manual_seed(0)\n",
    "np.random.seed(0)    \n",
    "device = torch.device(\"cuda:\" + str(args.device)) if torch.cuda.is_available() else torch.device(\"cpu\")\n",
    "if torch.cuda.is_available():\n",
    "    torch.cuda.manual_seed_all(0)\n",
    "\n",
    "graphs, num_classes = load_data(args.dataset, args.degree_as_tag)\n",
    "\n",
    "##10-fold cross validation. Conduct an experiment on the fold specified by args.fold_idx.\n",
    "train_graphs, test_graphs = separate_data(graphs, args.seed, args.fold_idx)\n",
    "\n",
    "model = GraphCNN(args.num_layers, args.num_mlp_layers, train_graphs[0].node_features.shape[1], args.hidden_dim, num_classes, args.final_dropout, args.learn_eps, args.graph_pooling_type, args.neighbor_pooling_type, device).to(device)\n",
    "\n",
    "optimizer = optim.Adam(model.parameters(), lr=args.lr)\n",
    "scheduler = optim.lr_scheduler.StepLR(optimizer, step_size=50, gamma=0.5)"
   ]
  },
  {
   "cell_type": "markdown",
   "metadata": {},
   "source": [
    "### Training"
   ]
  },
  {
   "cell_type": "code",
   "execution_count": 10,
   "metadata": {},
   "outputs": [
    {
     "name": "stderr",
     "output_type": "stream",
     "text": [
      "/nas/home/mingyuma/miniconda3/lib/python3.7/site-packages/torch/optim/lr_scheduler.py:100: UserWarning: Detected call of `lr_scheduler.step()` before `optimizer.step()`. In PyTorch 1.1.0 and later, you should call them in the opposite order: `optimizer.step()` before `lr_scheduler.step()`.  Failure to do this will result in PyTorch skipping the first value of the learning rate schedule.See more details at https://pytorch.org/docs/stable/optim.html#how-to-adjust-learning-rate\n",
      "  \"https://pytorch.org/docs/stable/optim.html#how-to-adjust-learning-rate\", UserWarning)\n",
      "epoch: 1: 100%|██████████| 50/50 [00:02<00:00, 20.76batch/s]\n",
      "epoch: 2:   8%|▊         | 4/50 [00:00<00:01, 39.89batch/s]"
     ]
    },
    {
     "name": "stdout",
     "output_type": "stream",
     "text": [
      "loss training: 2.347738\n",
      "accuracy train: 0.702381 test: 0.750000\n",
      "\n",
      "Parameter containing:\n",
      "tensor([0., 0., 0., 0.], device='cuda:0', requires_grad=True)\n"
     ]
    },
    {
     "name": "stderr",
     "output_type": "stream",
     "text": [
      "epoch: 2: 100%|██████████| 50/50 [00:01<00:00, 38.83batch/s]\n",
      "epoch: 3:  10%|█         | 5/50 [00:00<00:01, 40.58batch/s]"
     ]
    },
    {
     "name": "stdout",
     "output_type": "stream",
     "text": [
      "loss training: 0.933668\n",
      "accuracy train: 0.875000 test: 0.800000\n",
      "\n",
      "Parameter containing:\n",
      "tensor([0., 0., 0., 0.], device='cuda:0', requires_grad=True)\n"
     ]
    },
    {
     "name": "stderr",
     "output_type": "stream",
     "text": [
      "epoch: 3: 100%|██████████| 50/50 [00:01<00:00, 36.59batch/s]\n",
      "epoch: 4:   8%|▊         | 4/50 [00:00<00:01, 38.84batch/s]"
     ]
    },
    {
     "name": "stdout",
     "output_type": "stream",
     "text": [
      "loss training: 0.688289\n",
      "accuracy train: 0.880952 test: 0.800000\n",
      "\n",
      "Parameter containing:\n",
      "tensor([0., 0., 0., 0.], device='cuda:0', requires_grad=True)\n"
     ]
    },
    {
     "name": "stderr",
     "output_type": "stream",
     "text": [
      "epoch: 4: 100%|██████████| 50/50 [00:01<00:00, 34.30batch/s]\n",
      "epoch: 5:  10%|█         | 5/50 [00:00<00:01, 39.96batch/s]"
     ]
    },
    {
     "name": "stdout",
     "output_type": "stream",
     "text": [
      "loss training: 0.787647\n",
      "accuracy train: 0.863095 test: 0.800000\n",
      "\n",
      "Parameter containing:\n",
      "tensor([0., 0., 0., 0.], device='cuda:0', requires_grad=True)\n"
     ]
    },
    {
     "name": "stderr",
     "output_type": "stream",
     "text": [
      "epoch: 5: 100%|██████████| 50/50 [00:01<00:00, 38.87batch/s]\n",
      "epoch: 6:  10%|█         | 5/50 [00:00<00:01, 40.27batch/s]"
     ]
    },
    {
     "name": "stdout",
     "output_type": "stream",
     "text": [
      "loss training: 0.406840\n",
      "accuracy train: 0.773810 test: 0.650000\n",
      "\n",
      "Parameter containing:\n",
      "tensor([0., 0., 0., 0.], device='cuda:0', requires_grad=True)\n"
     ]
    },
    {
     "name": "stderr",
     "output_type": "stream",
     "text": [
      "epoch: 6: 100%|██████████| 50/50 [00:01<00:00, 37.48batch/s]\n",
      "epoch: 7:   8%|▊         | 4/50 [00:00<00:01, 38.14batch/s]"
     ]
    },
    {
     "name": "stdout",
     "output_type": "stream",
     "text": [
      "loss training: 0.538956\n",
      "accuracy train: 0.904762 test: 0.900000\n",
      "\n",
      "Parameter containing:\n",
      "tensor([0., 0., 0., 0.], device='cuda:0', requires_grad=True)\n"
     ]
    },
    {
     "name": "stderr",
     "output_type": "stream",
     "text": [
      "epoch: 7: 100%|██████████| 50/50 [00:01<00:00, 37.86batch/s]\n",
      "epoch: 8:   8%|▊         | 4/50 [00:00<00:01, 39.79batch/s]"
     ]
    },
    {
     "name": "stdout",
     "output_type": "stream",
     "text": [
      "loss training: 0.364966\n",
      "accuracy train: 0.910714 test: 0.850000\n",
      "\n",
      "Parameter containing:\n",
      "tensor([0., 0., 0., 0.], device='cuda:0', requires_grad=True)\n"
     ]
    },
    {
     "name": "stderr",
     "output_type": "stream",
     "text": [
      "epoch: 8: 100%|██████████| 50/50 [00:01<00:00, 38.19batch/s]\n",
      "epoch: 9:  10%|█         | 5/50 [00:00<00:01, 40.05batch/s]"
     ]
    },
    {
     "name": "stdout",
     "output_type": "stream",
     "text": [
      "loss training: 0.318661\n",
      "accuracy train: 0.922619 test: 0.800000\n",
      "\n",
      "Parameter containing:\n",
      "tensor([0., 0., 0., 0.], device='cuda:0', requires_grad=True)\n"
     ]
    },
    {
     "name": "stderr",
     "output_type": "stream",
     "text": [
      "epoch: 9: 100%|██████████| 50/50 [00:01<00:00, 38.41batch/s]\n",
      "epoch: 10:  10%|█         | 5/50 [00:00<00:01, 39.95batch/s]"
     ]
    },
    {
     "name": "stdout",
     "output_type": "stream",
     "text": [
      "loss training: 0.213436\n",
      "accuracy train: 0.952381 test: 0.800000\n",
      "\n",
      "Parameter containing:\n",
      "tensor([0., 0., 0., 0.], device='cuda:0', requires_grad=True)\n"
     ]
    },
    {
     "name": "stderr",
     "output_type": "stream",
     "text": [
      "epoch: 10: 100%|██████████| 50/50 [00:01<00:00, 37.88batch/s]\n",
      "epoch: 11:  10%|█         | 5/50 [00:00<00:01, 40.27batch/s]"
     ]
    },
    {
     "name": "stdout",
     "output_type": "stream",
     "text": [
      "loss training: 0.233007\n",
      "accuracy train: 0.946429 test: 0.750000\n",
      "\n",
      "Parameter containing:\n",
      "tensor([0., 0., 0., 0.], device='cuda:0', requires_grad=True)\n"
     ]
    },
    {
     "name": "stderr",
     "output_type": "stream",
     "text": [
      "epoch: 11: 100%|██████████| 50/50 [00:01<00:00, 38.00batch/s]\n",
      "epoch: 12:  10%|█         | 5/50 [00:00<00:01, 40.26batch/s]"
     ]
    },
    {
     "name": "stdout",
     "output_type": "stream",
     "text": [
      "loss training: 0.429802\n",
      "accuracy train: 0.886905 test: 0.800000\n",
      "\n",
      "Parameter containing:\n",
      "tensor([0., 0., 0., 0.], device='cuda:0', requires_grad=True)\n"
     ]
    },
    {
     "name": "stderr",
     "output_type": "stream",
     "text": [
      "epoch: 12: 100%|██████████| 50/50 [00:01<00:00, 38.68batch/s]\n",
      "epoch: 13:   6%|▌         | 3/50 [00:00<00:01, 29.89batch/s]"
     ]
    },
    {
     "name": "stdout",
     "output_type": "stream",
     "text": [
      "loss training: 0.355327\n",
      "accuracy train: 0.910714 test: 0.800000\n",
      "\n",
      "Parameter containing:\n",
      "tensor([0., 0., 0., 0.], device='cuda:0', requires_grad=True)\n"
     ]
    },
    {
     "name": "stderr",
     "output_type": "stream",
     "text": [
      "epoch: 13: 100%|██████████| 50/50 [00:01<00:00, 32.36batch/s]\n",
      "epoch: 14:   8%|▊         | 4/50 [00:00<00:01, 39.19batch/s]"
     ]
    },
    {
     "name": "stdout",
     "output_type": "stream",
     "text": [
      "loss training: 0.282664\n",
      "accuracy train: 0.934524 test: 0.750000\n",
      "\n",
      "Parameter containing:\n",
      "tensor([0., 0., 0., 0.], device='cuda:0', requires_grad=True)\n"
     ]
    },
    {
     "name": "stderr",
     "output_type": "stream",
     "text": [
      "epoch: 14: 100%|██████████| 50/50 [00:01<00:00, 38.03batch/s]\n",
      "epoch: 15:   8%|▊         | 4/50 [00:00<00:01, 39.85batch/s]"
     ]
    },
    {
     "name": "stdout",
     "output_type": "stream",
     "text": [
      "loss training: 0.353912\n",
      "accuracy train: 0.940476 test: 0.750000\n",
      "\n",
      "Parameter containing:\n",
      "tensor([0., 0., 0., 0.], device='cuda:0', requires_grad=True)\n"
     ]
    },
    {
     "name": "stderr",
     "output_type": "stream",
     "text": [
      "epoch: 15: 100%|██████████| 50/50 [00:01<00:00, 37.83batch/s]\n",
      "epoch: 16:  10%|█         | 5/50 [00:00<00:01, 40.69batch/s]"
     ]
    },
    {
     "name": "stdout",
     "output_type": "stream",
     "text": [
      "loss training: 0.234229\n",
      "accuracy train: 0.910714 test: 0.750000\n",
      "\n",
      "Parameter containing:\n",
      "tensor([0., 0., 0., 0.], device='cuda:0', requires_grad=True)\n"
     ]
    },
    {
     "name": "stderr",
     "output_type": "stream",
     "text": [
      "epoch: 16: 100%|██████████| 50/50 [00:01<00:00, 37.71batch/s]\n",
      "epoch: 17:   8%|▊         | 4/50 [00:00<00:01, 38.92batch/s]"
     ]
    },
    {
     "name": "stdout",
     "output_type": "stream",
     "text": [
      "loss training: 0.267967\n",
      "accuracy train: 0.916667 test: 0.800000\n",
      "\n",
      "Parameter containing:\n",
      "tensor([0., 0., 0., 0.], device='cuda:0', requires_grad=True)\n"
     ]
    },
    {
     "name": "stderr",
     "output_type": "stream",
     "text": [
      "epoch: 17: 100%|██████████| 50/50 [00:01<00:00, 37.85batch/s]\n",
      "epoch: 18:  10%|█         | 5/50 [00:00<00:01, 40.38batch/s]"
     ]
    },
    {
     "name": "stdout",
     "output_type": "stream",
     "text": [
      "loss training: 0.207644\n",
      "accuracy train: 0.940476 test: 0.750000\n",
      "\n",
      "Parameter containing:\n",
      "tensor([0., 0., 0., 0.], device='cuda:0', requires_grad=True)\n"
     ]
    },
    {
     "name": "stderr",
     "output_type": "stream",
     "text": [
      "epoch: 18: 100%|██████████| 50/50 [00:01<00:00, 36.96batch/s]\n",
      "epoch: 19:   8%|▊         | 4/50 [00:00<00:01, 38.78batch/s]"
     ]
    },
    {
     "name": "stdout",
     "output_type": "stream",
     "text": [
      "loss training: 0.225872\n",
      "accuracy train: 0.934524 test: 0.750000\n",
      "\n",
      "Parameter containing:\n",
      "tensor([0., 0., 0., 0.], device='cuda:0', requires_grad=True)\n"
     ]
    },
    {
     "name": "stderr",
     "output_type": "stream",
     "text": [
      "epoch: 19: 100%|██████████| 50/50 [00:01<00:00, 36.79batch/s]\n",
      "epoch: 20:   8%|▊         | 4/50 [00:00<00:01, 38.86batch/s]"
     ]
    },
    {
     "name": "stdout",
     "output_type": "stream",
     "text": [
      "loss training: 0.163871\n",
      "accuracy train: 0.875000 test: 0.750000\n",
      "\n",
      "Parameter containing:\n",
      "tensor([0., 0., 0., 0.], device='cuda:0', requires_grad=True)\n"
     ]
    },
    {
     "name": "stderr",
     "output_type": "stream",
     "text": [
      "epoch: 20: 100%|██████████| 50/50 [00:01<00:00, 36.50batch/s]\n",
      "epoch: 21:  10%|█         | 5/50 [00:00<00:01, 40.15batch/s]"
     ]
    },
    {
     "name": "stdout",
     "output_type": "stream",
     "text": [
      "loss training: 0.180911\n",
      "accuracy train: 0.952381 test: 0.750000\n",
      "\n",
      "Parameter containing:\n",
      "tensor([0., 0., 0., 0.], device='cuda:0', requires_grad=True)\n"
     ]
    },
    {
     "name": "stderr",
     "output_type": "stream",
     "text": [
      "epoch: 21: 100%|██████████| 50/50 [00:01<00:00, 37.25batch/s]\n",
      "epoch: 22:   8%|▊         | 4/50 [00:00<00:01, 37.09batch/s]"
     ]
    },
    {
     "name": "stdout",
     "output_type": "stream",
     "text": [
      "loss training: 0.143786\n",
      "accuracy train: 0.952381 test: 0.750000\n",
      "\n",
      "Parameter containing:\n",
      "tensor([0., 0., 0., 0.], device='cuda:0', requires_grad=True)\n"
     ]
    },
    {
     "name": "stderr",
     "output_type": "stream",
     "text": [
      "epoch: 22: 100%|██████████| 50/50 [00:01<00:00, 37.91batch/s]\n",
      "epoch: 23:   8%|▊         | 4/50 [00:00<00:01, 38.53batch/s]"
     ]
    },
    {
     "name": "stdout",
     "output_type": "stream",
     "text": [
      "loss training: 0.269119\n",
      "accuracy train: 0.785714 test: 0.700000\n",
      "\n",
      "Parameter containing:\n",
      "tensor([0., 0., 0., 0.], device='cuda:0', requires_grad=True)\n"
     ]
    },
    {
     "name": "stderr",
     "output_type": "stream",
     "text": [
      "epoch: 23: 100%|██████████| 50/50 [00:01<00:00, 38.27batch/s]\n",
      "epoch: 24:  10%|█         | 5/50 [00:00<00:01, 40.60batch/s]"
     ]
    },
    {
     "name": "stdout",
     "output_type": "stream",
     "text": [
      "loss training: 0.193042\n",
      "accuracy train: 0.958333 test: 0.800000\n",
      "\n",
      "Parameter containing:\n",
      "tensor([0., 0., 0., 0.], device='cuda:0', requires_grad=True)\n"
     ]
    },
    {
     "name": "stderr",
     "output_type": "stream",
     "text": [
      "epoch: 24: 100%|██████████| 50/50 [00:01<00:00, 38.73batch/s]\n",
      "epoch: 25:   8%|▊         | 4/50 [00:00<00:01, 39.09batch/s]"
     ]
    },
    {
     "name": "stdout",
     "output_type": "stream",
     "text": [
      "loss training: 0.197566\n",
      "accuracy train: 0.875000 test: 0.800000\n",
      "\n",
      "Parameter containing:\n",
      "tensor([0., 0., 0., 0.], device='cuda:0', requires_grad=True)\n"
     ]
    },
    {
     "name": "stderr",
     "output_type": "stream",
     "text": [
      "epoch: 25: 100%|██████████| 50/50 [00:01<00:00, 38.61batch/s]\n",
      "epoch: 26:   8%|▊         | 4/50 [00:00<00:01, 37.72batch/s]"
     ]
    },
    {
     "name": "stdout",
     "output_type": "stream",
     "text": [
      "loss training: 0.225117\n",
      "accuracy train: 0.946429 test: 0.800000\n",
      "\n",
      "Parameter containing:\n",
      "tensor([0., 0., 0., 0.], device='cuda:0', requires_grad=True)\n"
     ]
    },
    {
     "name": "stderr",
     "output_type": "stream",
     "text": [
      "epoch: 26: 100%|██████████| 50/50 [00:01<00:00, 37.99batch/s]\n",
      "epoch: 27:  10%|█         | 5/50 [00:00<00:01, 40.73batch/s]"
     ]
    },
    {
     "name": "stdout",
     "output_type": "stream",
     "text": [
      "loss training: 0.189388\n",
      "accuracy train: 0.916667 test: 0.750000\n",
      "\n",
      "Parameter containing:\n",
      "tensor([0., 0., 0., 0.], device='cuda:0', requires_grad=True)\n"
     ]
    },
    {
     "name": "stderr",
     "output_type": "stream",
     "text": [
      "epoch: 27: 100%|██████████| 50/50 [00:01<00:00, 38.72batch/s]\n",
      "epoch: 28:  10%|█         | 5/50 [00:00<00:01, 40.51batch/s]"
     ]
    },
    {
     "name": "stdout",
     "output_type": "stream",
     "text": [
      "loss training: 0.191499\n",
      "accuracy train: 0.958333 test: 0.800000\n",
      "\n",
      "Parameter containing:\n",
      "tensor([0., 0., 0., 0.], device='cuda:0', requires_grad=True)\n"
     ]
    },
    {
     "name": "stderr",
     "output_type": "stream",
     "text": [
      "epoch: 28: 100%|██████████| 50/50 [00:01<00:00, 37.55batch/s]\n",
      "epoch: 29:  10%|█         | 5/50 [00:00<00:01, 36.63batch/s]"
     ]
    },
    {
     "name": "stdout",
     "output_type": "stream",
     "text": [
      "loss training: 0.167618\n",
      "accuracy train: 0.934524 test: 0.750000\n",
      "\n",
      "Parameter containing:\n",
      "tensor([0., 0., 0., 0.], device='cuda:0', requires_grad=True)\n"
     ]
    },
    {
     "name": "stderr",
     "output_type": "stream",
     "text": [
      "epoch: 29: 100%|██████████| 50/50 [00:01<00:00, 35.16batch/s]\n",
      "epoch: 30:  10%|█         | 5/50 [00:00<00:01, 40.28batch/s]"
     ]
    },
    {
     "name": "stdout",
     "output_type": "stream",
     "text": [
      "loss training: 0.146007\n",
      "accuracy train: 0.898810 test: 0.750000\n",
      "\n",
      "Parameter containing:\n",
      "tensor([0., 0., 0., 0.], device='cuda:0', requires_grad=True)\n"
     ]
    },
    {
     "name": "stderr",
     "output_type": "stream",
     "text": [
      "epoch: 30: 100%|██████████| 50/50 [00:01<00:00, 37.20batch/s]\n",
      "epoch: 31:   8%|▊         | 4/50 [00:00<00:01, 39.74batch/s]"
     ]
    },
    {
     "name": "stdout",
     "output_type": "stream",
     "text": [
      "loss training: 0.160448\n",
      "accuracy train: 0.946429 test: 0.800000\n",
      "\n",
      "Parameter containing:\n",
      "tensor([0., 0., 0., 0.], device='cuda:0', requires_grad=True)\n"
     ]
    },
    {
     "name": "stderr",
     "output_type": "stream",
     "text": [
      "epoch: 31: 100%|██████████| 50/50 [00:01<00:00, 34.00batch/s]\n",
      "epoch: 32:  10%|█         | 5/50 [00:00<00:01, 40.03batch/s]"
     ]
    },
    {
     "name": "stdout",
     "output_type": "stream",
     "text": [
      "loss training: 0.139935\n",
      "accuracy train: 0.952381 test: 0.750000\n",
      "\n",
      "Parameter containing:\n",
      "tensor([0., 0., 0., 0.], device='cuda:0', requires_grad=True)\n"
     ]
    },
    {
     "name": "stderr",
     "output_type": "stream",
     "text": [
      "epoch: 32: 100%|██████████| 50/50 [00:01<00:00, 37.27batch/s]\n",
      "epoch: 33:  10%|█         | 5/50 [00:00<00:01, 40.23batch/s]"
     ]
    },
    {
     "name": "stdout",
     "output_type": "stream",
     "text": [
      "loss training: 0.167288\n",
      "accuracy train: 0.964286 test: 0.750000\n",
      "\n",
      "Parameter containing:\n",
      "tensor([0., 0., 0., 0.], device='cuda:0', requires_grad=True)\n"
     ]
    },
    {
     "name": "stderr",
     "output_type": "stream",
     "text": [
      "epoch: 33: 100%|██████████| 50/50 [00:01<00:00, 38.36batch/s]\n",
      "epoch: 34:   8%|▊         | 4/50 [00:00<00:01, 39.94batch/s]"
     ]
    },
    {
     "name": "stdout",
     "output_type": "stream",
     "text": [
      "loss training: 0.166547\n",
      "accuracy train: 0.970238 test: 0.800000\n",
      "\n",
      "Parameter containing:\n",
      "tensor([0., 0., 0., 0.], device='cuda:0', requires_grad=True)\n"
     ]
    },
    {
     "name": "stderr",
     "output_type": "stream",
     "text": [
      "epoch: 34: 100%|██████████| 50/50 [00:01<00:00, 39.02batch/s]\n",
      "epoch: 35:  10%|█         | 5/50 [00:00<00:01, 40.74batch/s]"
     ]
    },
    {
     "name": "stdout",
     "output_type": "stream",
     "text": [
      "loss training: 0.139135\n",
      "accuracy train: 0.976190 test: 0.800000\n",
      "\n",
      "Parameter containing:\n",
      "tensor([0., 0., 0., 0.], device='cuda:0', requires_grad=True)\n"
     ]
    },
    {
     "name": "stderr",
     "output_type": "stream",
     "text": [
      "epoch: 35: 100%|██████████| 50/50 [00:01<00:00, 28.58batch/s]\n",
      "epoch: 36:   8%|▊         | 4/50 [00:00<00:01, 39.96batch/s]"
     ]
    },
    {
     "name": "stdout",
     "output_type": "stream",
     "text": [
      "loss training: 0.109263\n",
      "accuracy train: 0.952381 test: 0.750000\n",
      "\n",
      "Parameter containing:\n",
      "tensor([0., 0., 0., 0.], device='cuda:0', requires_grad=True)\n"
     ]
    },
    {
     "name": "stderr",
     "output_type": "stream",
     "text": [
      "epoch: 36: 100%|██████████| 50/50 [00:01<00:00, 37.20batch/s]\n",
      "epoch: 37:  10%|█         | 5/50 [00:00<00:01, 40.57batch/s]"
     ]
    },
    {
     "name": "stdout",
     "output_type": "stream",
     "text": [
      "loss training: 0.160407\n",
      "accuracy train: 0.375000 test: 0.350000\n",
      "\n",
      "Parameter containing:\n",
      "tensor([0., 0., 0., 0.], device='cuda:0', requires_grad=True)\n"
     ]
    },
    {
     "name": "stderr",
     "output_type": "stream",
     "text": [
      "epoch: 37: 100%|██████████| 50/50 [00:01<00:00, 37.45batch/s]\n",
      "epoch: 38:  10%|█         | 5/50 [00:00<00:01, 40.83batch/s]"
     ]
    },
    {
     "name": "stdout",
     "output_type": "stream",
     "text": [
      "loss training: 0.240975\n",
      "accuracy train: 0.886905 test: 0.800000\n",
      "\n",
      "Parameter containing:\n",
      "tensor([0., 0., 0., 0.], device='cuda:0', requires_grad=True)\n"
     ]
    },
    {
     "name": "stderr",
     "output_type": "stream",
     "text": [
      "epoch: 38: 100%|██████████| 50/50 [00:01<00:00, 38.11batch/s]\n",
      "epoch: 39:  10%|█         | 5/50 [00:00<00:01, 40.28batch/s]"
     ]
    },
    {
     "name": "stdout",
     "output_type": "stream",
     "text": [
      "loss training: 0.212611\n",
      "accuracy train: 0.934524 test: 0.750000\n",
      "\n",
      "Parameter containing:\n",
      "tensor([0., 0., 0., 0.], device='cuda:0', requires_grad=True)\n"
     ]
    },
    {
     "name": "stderr",
     "output_type": "stream",
     "text": [
      "epoch: 39: 100%|██████████| 50/50 [00:01<00:00, 37.68batch/s]\n",
      "epoch: 40:  10%|█         | 5/50 [00:00<00:01, 39.90batch/s]"
     ]
    },
    {
     "name": "stdout",
     "output_type": "stream",
     "text": [
      "loss training: 0.131429\n",
      "accuracy train: 0.946429 test: 0.800000\n",
      "\n",
      "Parameter containing:\n",
      "tensor([0., 0., 0., 0.], device='cuda:0', requires_grad=True)\n"
     ]
    },
    {
     "name": "stderr",
     "output_type": "stream",
     "text": [
      "epoch: 40: 100%|██████████| 50/50 [00:01<00:00, 29.48batch/s]\n",
      "epoch: 41:   0%|          | 0/50 [00:00<?, ?batch/s]"
     ]
    },
    {
     "name": "stdout",
     "output_type": "stream",
     "text": [
      "loss training: 0.134703\n",
      "accuracy train: 0.952381 test: 0.750000\n",
      "\n",
      "Parameter containing:\n",
      "tensor([0., 0., 0., 0.], device='cuda:0', requires_grad=True)\n"
     ]
    },
    {
     "name": "stderr",
     "output_type": "stream",
     "text": [
      "epoch: 41: 100%|██████████| 50/50 [00:01<00:00, 32.85batch/s]\n",
      "epoch: 42:   8%|▊         | 4/50 [00:00<00:01, 37.81batch/s]"
     ]
    },
    {
     "name": "stdout",
     "output_type": "stream",
     "text": [
      "loss training: 0.151356\n",
      "accuracy train: 0.946429 test: 0.800000\n",
      "\n",
      "Parameter containing:\n",
      "tensor([0., 0., 0., 0.], device='cuda:0', requires_grad=True)\n"
     ]
    },
    {
     "name": "stderr",
     "output_type": "stream",
     "text": [
      "epoch: 42: 100%|██████████| 50/50 [00:01<00:00, 32.59batch/s]\n",
      "epoch: 43:   8%|▊         | 4/50 [00:00<00:01, 39.05batch/s]"
     ]
    },
    {
     "name": "stdout",
     "output_type": "stream",
     "text": [
      "loss training: 0.104013\n",
      "accuracy train: 0.988095 test: 0.800000\n",
      "\n",
      "Parameter containing:\n",
      "tensor([0., 0., 0., 0.], device='cuda:0', requires_grad=True)\n"
     ]
    },
    {
     "name": "stderr",
     "output_type": "stream",
     "text": [
      "epoch: 43: 100%|██████████| 50/50 [00:01<00:00, 36.57batch/s]\n",
      "epoch: 44:   8%|▊         | 4/50 [00:00<00:01, 37.93batch/s]"
     ]
    },
    {
     "name": "stdout",
     "output_type": "stream",
     "text": [
      "loss training: 0.099727\n",
      "accuracy train: 0.988095 test: 0.850000\n",
      "\n",
      "Parameter containing:\n",
      "tensor([0., 0., 0., 0.], device='cuda:0', requires_grad=True)\n"
     ]
    },
    {
     "name": "stderr",
     "output_type": "stream",
     "text": [
      "epoch: 44: 100%|██████████| 50/50 [00:01<00:00, 37.75batch/s]\n",
      "epoch: 45:  10%|█         | 5/50 [00:00<00:01, 40.69batch/s]"
     ]
    },
    {
     "name": "stdout",
     "output_type": "stream",
     "text": [
      "loss training: 0.234846\n",
      "accuracy train: 0.892857 test: 0.850000\n",
      "\n",
      "Parameter containing:\n",
      "tensor([0., 0., 0., 0.], device='cuda:0', requires_grad=True)\n"
     ]
    },
    {
     "name": "stderr",
     "output_type": "stream",
     "text": [
      "epoch: 45: 100%|██████████| 50/50 [00:01<00:00, 36.50batch/s]\n",
      "epoch: 46:   8%|▊         | 4/50 [00:00<00:01, 38.94batch/s]"
     ]
    },
    {
     "name": "stdout",
     "output_type": "stream",
     "text": [
      "loss training: 0.185297\n",
      "accuracy train: 0.958333 test: 0.750000\n",
      "\n",
      "Parameter containing:\n",
      "tensor([0., 0., 0., 0.], device='cuda:0', requires_grad=True)\n"
     ]
    },
    {
     "name": "stderr",
     "output_type": "stream",
     "text": [
      "epoch: 46: 100%|██████████| 50/50 [00:01<00:00, 36.62batch/s]\n",
      "epoch: 47:   8%|▊         | 4/50 [00:00<00:01, 39.92batch/s]"
     ]
    },
    {
     "name": "stdout",
     "output_type": "stream",
     "text": [
      "loss training: 0.124550\n",
      "accuracy train: 0.833333 test: 0.750000\n",
      "\n",
      "Parameter containing:\n",
      "tensor([0., 0., 0., 0.], device='cuda:0', requires_grad=True)\n"
     ]
    },
    {
     "name": "stderr",
     "output_type": "stream",
     "text": [
      "epoch: 47: 100%|██████████| 50/50 [00:01<00:00, 38.61batch/s]\n",
      "epoch: 48:  10%|█         | 5/50 [00:00<00:01, 40.67batch/s]"
     ]
    },
    {
     "name": "stdout",
     "output_type": "stream",
     "text": [
      "loss training: 0.140159\n",
      "accuracy train: 0.952381 test: 0.750000\n",
      "\n",
      "Parameter containing:\n",
      "tensor([0., 0., 0., 0.], device='cuda:0', requires_grad=True)\n"
     ]
    },
    {
     "name": "stderr",
     "output_type": "stream",
     "text": [
      "epoch: 48: 100%|██████████| 50/50 [00:01<00:00, 38.72batch/s]\n",
      "epoch: 49:   8%|▊         | 4/50 [00:00<00:01, 38.88batch/s]"
     ]
    },
    {
     "name": "stdout",
     "output_type": "stream",
     "text": [
      "loss training: 0.109478\n",
      "accuracy train: 0.958333 test: 0.800000\n",
      "\n",
      "Parameter containing:\n",
      "tensor([0., 0., 0., 0.], device='cuda:0', requires_grad=True)\n"
     ]
    },
    {
     "name": "stderr",
     "output_type": "stream",
     "text": [
      "epoch: 49: 100%|██████████| 50/50 [00:01<00:00, 38.87batch/s]\n",
      "epoch: 50:   8%|▊         | 4/50 [00:00<00:01, 38.16batch/s]"
     ]
    },
    {
     "name": "stdout",
     "output_type": "stream",
     "text": [
      "loss training: 0.085016\n",
      "accuracy train: 0.970238 test: 0.800000\n",
      "\n",
      "Parameter containing:\n",
      "tensor([0., 0., 0., 0.], device='cuda:0', requires_grad=True)\n"
     ]
    },
    {
     "name": "stderr",
     "output_type": "stream",
     "text": [
      "epoch: 50: 100%|██████████| 50/50 [00:01<00:00, 37.29batch/s]\n",
      "epoch: 51:  10%|█         | 5/50 [00:00<00:01, 40.27batch/s]"
     ]
    },
    {
     "name": "stdout",
     "output_type": "stream",
     "text": [
      "loss training: 0.069675\n",
      "accuracy train: 0.988095 test: 0.850000\n",
      "\n",
      "Parameter containing:\n",
      "tensor([0., 0., 0., 0.], device='cuda:0', requires_grad=True)\n"
     ]
    },
    {
     "name": "stderr",
     "output_type": "stream",
     "text": [
      "epoch: 51: 100%|██████████| 50/50 [00:01<00:00, 38.46batch/s]\n",
      "epoch: 52:   8%|▊         | 4/50 [00:00<00:01, 38.77batch/s]"
     ]
    },
    {
     "name": "stdout",
     "output_type": "stream",
     "text": [
      "loss training: 0.076335\n",
      "accuracy train: 0.970238 test: 0.850000\n",
      "\n",
      "Parameter containing:\n",
      "tensor([0., 0., 0., 0.], device='cuda:0', requires_grad=True)\n"
     ]
    },
    {
     "name": "stderr",
     "output_type": "stream",
     "text": [
      "epoch: 52: 100%|██████████| 50/50 [00:01<00:00, 37.54batch/s]\n",
      "epoch: 53:   8%|▊         | 4/50 [00:00<00:01, 39.91batch/s]"
     ]
    },
    {
     "name": "stdout",
     "output_type": "stream",
     "text": [
      "loss training: 0.064222\n",
      "accuracy train: 0.982143 test: 0.850000\n",
      "\n",
      "Parameter containing:\n",
      "tensor([0., 0., 0., 0.], device='cuda:0', requires_grad=True)\n"
     ]
    },
    {
     "name": "stderr",
     "output_type": "stream",
     "text": [
      "epoch: 53: 100%|██████████| 50/50 [00:01<00:00, 39.07batch/s]\n",
      "epoch: 54:  10%|█         | 5/50 [00:00<00:01, 40.80batch/s]"
     ]
    },
    {
     "name": "stdout",
     "output_type": "stream",
     "text": [
      "loss training: 0.091062\n",
      "accuracy train: 0.982143 test: 0.850000\n",
      "\n",
      "Parameter containing:\n",
      "tensor([0., 0., 0., 0.], device='cuda:0', requires_grad=True)\n"
     ]
    },
    {
     "name": "stderr",
     "output_type": "stream",
     "text": [
      "epoch: 54: 100%|██████████| 50/50 [00:01<00:00, 38.84batch/s]\n",
      "epoch: 55:  10%|█         | 5/50 [00:00<00:01, 40.27batch/s]"
     ]
    },
    {
     "name": "stdout",
     "output_type": "stream",
     "text": [
      "loss training: 0.078817\n",
      "accuracy train: 0.988095 test: 0.800000\n",
      "\n",
      "Parameter containing:\n",
      "tensor([0., 0., 0., 0.], device='cuda:0', requires_grad=True)\n"
     ]
    },
    {
     "name": "stderr",
     "output_type": "stream",
     "text": [
      "epoch: 55: 100%|██████████| 50/50 [00:01<00:00, 38.08batch/s]\n",
      "epoch: 56:  10%|█         | 5/50 [00:00<00:01, 40.36batch/s]"
     ]
    },
    {
     "name": "stdout",
     "output_type": "stream",
     "text": [
      "loss training: 0.072572\n",
      "accuracy train: 0.982143 test: 0.800000\n",
      "\n",
      "Parameter containing:\n",
      "tensor([0., 0., 0., 0.], device='cuda:0', requires_grad=True)\n"
     ]
    },
    {
     "name": "stderr",
     "output_type": "stream",
     "text": [
      "epoch: 56: 100%|██████████| 50/50 [00:01<00:00, 38.12batch/s]\n",
      "epoch: 57:   8%|▊         | 4/50 [00:00<00:01, 32.83batch/s]"
     ]
    },
    {
     "name": "stdout",
     "output_type": "stream",
     "text": [
      "loss training: 0.083882\n",
      "accuracy train: 0.988095 test: 0.750000\n",
      "\n",
      "Parameter containing:\n",
      "tensor([0., 0., 0., 0.], device='cuda:0', requires_grad=True)\n"
     ]
    },
    {
     "name": "stderr",
     "output_type": "stream",
     "text": [
      "epoch: 57: 100%|██████████| 50/50 [00:01<00:00, 37.66batch/s]\n",
      "epoch: 58:  10%|█         | 5/50 [00:00<00:01, 40.22batch/s]"
     ]
    },
    {
     "name": "stdout",
     "output_type": "stream",
     "text": [
      "loss training: 0.066287\n",
      "accuracy train: 0.988095 test: 0.800000\n",
      "\n",
      "Parameter containing:\n",
      "tensor([0., 0., 0., 0.], device='cuda:0', requires_grad=True)\n"
     ]
    },
    {
     "name": "stderr",
     "output_type": "stream",
     "text": [
      "epoch: 58: 100%|██████████| 50/50 [00:01<00:00, 39.18batch/s]\n",
      "epoch: 59:  10%|█         | 5/50 [00:00<00:01, 40.66batch/s]"
     ]
    },
    {
     "name": "stdout",
     "output_type": "stream",
     "text": [
      "loss training: 0.082685\n",
      "accuracy train: 0.982143 test: 0.750000\n",
      "\n",
      "Parameter containing:\n",
      "tensor([0., 0., 0., 0.], device='cuda:0', requires_grad=True)\n"
     ]
    },
    {
     "name": "stderr",
     "output_type": "stream",
     "text": [
      "epoch: 59: 100%|██████████| 50/50 [00:01<00:00, 39.26batch/s]\n",
      "epoch: 60:  10%|█         | 5/50 [00:00<00:01, 34.50batch/s]"
     ]
    },
    {
     "name": "stdout",
     "output_type": "stream",
     "text": [
      "loss training: 0.072567\n",
      "accuracy train: 0.958333 test: 0.850000\n",
      "\n",
      "Parameter containing:\n",
      "tensor([0., 0., 0., 0.], device='cuda:0', requires_grad=True)\n"
     ]
    },
    {
     "name": "stderr",
     "output_type": "stream",
     "text": [
      "epoch: 60: 100%|██████████| 50/50 [00:01<00:00, 36.46batch/s]\n",
      "epoch: 61:  10%|█         | 5/50 [00:00<00:01, 40.86batch/s]"
     ]
    },
    {
     "name": "stdout",
     "output_type": "stream",
     "text": [
      "loss training: 0.092711\n",
      "accuracy train: 0.982143 test: 0.850000\n",
      "\n",
      "Parameter containing:\n",
      "tensor([0., 0., 0., 0.], device='cuda:0', requires_grad=True)\n"
     ]
    },
    {
     "name": "stderr",
     "output_type": "stream",
     "text": [
      "epoch: 61: 100%|██████████| 50/50 [00:01<00:00, 37.67batch/s]\n",
      "epoch: 62:   8%|▊         | 4/50 [00:00<00:01, 38.28batch/s]"
     ]
    },
    {
     "name": "stdout",
     "output_type": "stream",
     "text": [
      "loss training: 0.046870\n",
      "accuracy train: 0.988095 test: 0.800000\n",
      "\n",
      "Parameter containing:\n",
      "tensor([0., 0., 0., 0.], device='cuda:0', requires_grad=True)\n"
     ]
    },
    {
     "name": "stderr",
     "output_type": "stream",
     "text": [
      "epoch: 62: 100%|██████████| 50/50 [00:01<00:00, 38.83batch/s]\n",
      "epoch: 63:  10%|█         | 5/50 [00:00<00:01, 40.60batch/s]"
     ]
    },
    {
     "name": "stdout",
     "output_type": "stream",
     "text": [
      "loss training: 0.052248\n",
      "accuracy train: 0.988095 test: 0.700000\n",
      "\n",
      "Parameter containing:\n",
      "tensor([0., 0., 0., 0.], device='cuda:0', requires_grad=True)\n"
     ]
    },
    {
     "name": "stderr",
     "output_type": "stream",
     "text": [
      "epoch: 63: 100%|██████████| 50/50 [00:01<00:00, 38.70batch/s]\n",
      "epoch: 64:  10%|█         | 5/50 [00:00<00:01, 40.76batch/s]"
     ]
    },
    {
     "name": "stdout",
     "output_type": "stream",
     "text": [
      "loss training: 0.054875\n",
      "accuracy train: 0.994048 test: 0.750000\n",
      "\n",
      "Parameter containing:\n",
      "tensor([0., 0., 0., 0.], device='cuda:0', requires_grad=True)\n"
     ]
    },
    {
     "name": "stderr",
     "output_type": "stream",
     "text": [
      "epoch: 64: 100%|██████████| 50/50 [00:01<00:00, 38.51batch/s]\n",
      "epoch: 65:   8%|▊         | 4/50 [00:00<00:01, 39.89batch/s]"
     ]
    },
    {
     "name": "stdout",
     "output_type": "stream",
     "text": [
      "loss training: 0.062367\n",
      "accuracy train: 0.982143 test: 0.800000\n",
      "\n",
      "Parameter containing:\n",
      "tensor([0., 0., 0., 0.], device='cuda:0', requires_grad=True)\n"
     ]
    },
    {
     "name": "stderr",
     "output_type": "stream",
     "text": [
      "epoch: 65: 100%|██████████| 50/50 [00:01<00:00, 38.24batch/s]\n",
      "epoch: 66:  10%|█         | 5/50 [00:00<00:01, 40.97batch/s]"
     ]
    },
    {
     "name": "stdout",
     "output_type": "stream",
     "text": [
      "loss training: 0.077682\n",
      "accuracy train: 0.988095 test: 0.800000\n",
      "\n",
      "Parameter containing:\n",
      "tensor([0., 0., 0., 0.], device='cuda:0', requires_grad=True)\n"
     ]
    },
    {
     "name": "stderr",
     "output_type": "stream",
     "text": [
      "epoch: 66: 100%|██████████| 50/50 [00:01<00:00, 38.49batch/s]\n",
      "epoch: 67:   8%|▊         | 4/50 [00:00<00:01, 37.95batch/s]"
     ]
    },
    {
     "name": "stdout",
     "output_type": "stream",
     "text": [
      "loss training: 0.070135\n",
      "accuracy train: 0.994048 test: 0.750000\n",
      "\n",
      "Parameter containing:\n",
      "tensor([0., 0., 0., 0.], device='cuda:0', requires_grad=True)\n"
     ]
    },
    {
     "name": "stderr",
     "output_type": "stream",
     "text": [
      "epoch: 67: 100%|██████████| 50/50 [00:01<00:00, 38.08batch/s]\n",
      "epoch: 68:   8%|▊         | 4/50 [00:00<00:01, 33.22batch/s]"
     ]
    },
    {
     "name": "stdout",
     "output_type": "stream",
     "text": [
      "loss training: 0.056177\n",
      "accuracy train: 0.994048 test: 0.750000\n",
      "\n",
      "Parameter containing:\n",
      "tensor([0., 0., 0., 0.], device='cuda:0', requires_grad=True)\n"
     ]
    },
    {
     "name": "stderr",
     "output_type": "stream",
     "text": [
      "epoch: 68: 100%|██████████| 50/50 [00:01<00:00, 37.24batch/s]\n",
      "epoch: 69:   8%|▊         | 4/50 [00:00<00:01, 39.93batch/s]"
     ]
    },
    {
     "name": "stdout",
     "output_type": "stream",
     "text": [
      "loss training: 0.052274\n",
      "accuracy train: 0.988095 test: 0.750000\n",
      "\n",
      "Parameter containing:\n",
      "tensor([0., 0., 0., 0.], device='cuda:0', requires_grad=True)\n"
     ]
    },
    {
     "name": "stderr",
     "output_type": "stream",
     "text": [
      "epoch: 69: 100%|██████████| 50/50 [00:01<00:00, 38.20batch/s]\n",
      "epoch: 70:  10%|█         | 5/50 [00:00<00:01, 40.41batch/s]"
     ]
    },
    {
     "name": "stdout",
     "output_type": "stream",
     "text": [
      "loss training: 0.061231\n",
      "accuracy train: 0.976190 test: 0.750000\n",
      "\n",
      "Parameter containing:\n",
      "tensor([0., 0., 0., 0.], device='cuda:0', requires_grad=True)\n"
     ]
    },
    {
     "name": "stderr",
     "output_type": "stream",
     "text": [
      "epoch: 70: 100%|██████████| 50/50 [00:01<00:00, 37.69batch/s]\n",
      "epoch: 71:  10%|█         | 5/50 [00:00<00:01, 40.55batch/s]"
     ]
    },
    {
     "name": "stdout",
     "output_type": "stream",
     "text": [
      "loss training: 0.060182\n",
      "accuracy train: 0.982143 test: 0.850000\n",
      "\n",
      "Parameter containing:\n",
      "tensor([0., 0., 0., 0.], device='cuda:0', requires_grad=True)\n"
     ]
    },
    {
     "name": "stderr",
     "output_type": "stream",
     "text": [
      "epoch: 71: 100%|██████████| 50/50 [00:01<00:00, 39.43batch/s]\n",
      "epoch: 72:  10%|█         | 5/50 [00:00<00:01, 40.45batch/s]"
     ]
    },
    {
     "name": "stdout",
     "output_type": "stream",
     "text": [
      "loss training: 0.175101\n",
      "accuracy train: 0.988095 test: 0.850000\n",
      "\n",
      "Parameter containing:\n",
      "tensor([0., 0., 0., 0.], device='cuda:0', requires_grad=True)\n"
     ]
    },
    {
     "name": "stderr",
     "output_type": "stream",
     "text": [
      "epoch: 72: 100%|██████████| 50/50 [00:01<00:00, 37.58batch/s]\n",
      "epoch: 73:  10%|█         | 5/50 [00:00<00:01, 40.24batch/s]"
     ]
    },
    {
     "name": "stdout",
     "output_type": "stream",
     "text": [
      "loss training: 0.156580\n",
      "accuracy train: 0.886905 test: 0.800000\n",
      "\n",
      "Parameter containing:\n",
      "tensor([0., 0., 0., 0.], device='cuda:0', requires_grad=True)\n"
     ]
    },
    {
     "name": "stderr",
     "output_type": "stream",
     "text": [
      "epoch: 73: 100%|██████████| 50/50 [00:01<00:00, 39.25batch/s]\n",
      "epoch: 74:  10%|█         | 5/50 [00:00<00:01, 40.88batch/s]"
     ]
    },
    {
     "name": "stdout",
     "output_type": "stream",
     "text": [
      "loss training: 0.152074\n",
      "accuracy train: 0.976190 test: 0.800000\n",
      "\n",
      "Parameter containing:\n",
      "tensor([0., 0., 0., 0.], device='cuda:0', requires_grad=True)\n"
     ]
    },
    {
     "name": "stderr",
     "output_type": "stream",
     "text": [
      "epoch: 74: 100%|██████████| 50/50 [00:01<00:00, 36.23batch/s]\n",
      "epoch: 75:  10%|█         | 5/50 [00:00<00:01, 40.56batch/s]"
     ]
    },
    {
     "name": "stdout",
     "output_type": "stream",
     "text": [
      "loss training: 0.061354\n",
      "accuracy train: 0.988095 test: 0.750000\n",
      "\n",
      "Parameter containing:\n",
      "tensor([0., 0., 0., 0.], device='cuda:0', requires_grad=True)\n"
     ]
    },
    {
     "name": "stderr",
     "output_type": "stream",
     "text": [
      "epoch: 75: 100%|██████████| 50/50 [00:01<00:00, 38.19batch/s]\n",
      "epoch: 76:   8%|▊         | 4/50 [00:00<00:01, 39.03batch/s]"
     ]
    },
    {
     "name": "stdout",
     "output_type": "stream",
     "text": [
      "loss training: 0.068213\n",
      "accuracy train: 0.988095 test: 0.750000\n",
      "\n",
      "Parameter containing:\n",
      "tensor([0., 0., 0., 0.], device='cuda:0', requires_grad=True)\n"
     ]
    },
    {
     "name": "stderr",
     "output_type": "stream",
     "text": [
      "epoch: 76: 100%|██████████| 50/50 [00:01<00:00, 38.51batch/s]\n",
      "epoch: 77:   8%|▊         | 4/50 [00:00<00:01, 38.95batch/s]"
     ]
    },
    {
     "name": "stdout",
     "output_type": "stream",
     "text": [
      "loss training: 0.072440\n",
      "accuracy train: 0.964286 test: 0.800000\n",
      "\n",
      "Parameter containing:\n",
      "tensor([0., 0., 0., 0.], device='cuda:0', requires_grad=True)\n"
     ]
    },
    {
     "name": "stderr",
     "output_type": "stream",
     "text": [
      "epoch: 77: 100%|██████████| 50/50 [00:01<00:00, 35.03batch/s]\n",
      "epoch: 78:   8%|▊         | 4/50 [00:00<00:01, 36.91batch/s]"
     ]
    },
    {
     "name": "stdout",
     "output_type": "stream",
     "text": [
      "loss training: 0.058838\n",
      "accuracy train: 0.988095 test: 0.800000\n",
      "\n",
      "Parameter containing:\n",
      "tensor([0., 0., 0., 0.], device='cuda:0', requires_grad=True)\n"
     ]
    },
    {
     "name": "stderr",
     "output_type": "stream",
     "text": [
      "epoch: 78: 100%|██████████| 50/50 [00:01<00:00, 38.15batch/s]\n",
      "epoch: 79:   8%|▊         | 4/50 [00:00<00:01, 39.23batch/s]"
     ]
    },
    {
     "name": "stdout",
     "output_type": "stream",
     "text": [
      "loss training: 0.059331\n",
      "accuracy train: 0.988095 test: 0.800000\n",
      "\n",
      "Parameter containing:\n",
      "tensor([0., 0., 0., 0.], device='cuda:0', requires_grad=True)\n"
     ]
    },
    {
     "name": "stderr",
     "output_type": "stream",
     "text": [
      "epoch: 79: 100%|██████████| 50/50 [00:01<00:00, 38.12batch/s]\n",
      "epoch: 80:  10%|█         | 5/50 [00:00<00:01, 39.83batch/s]"
     ]
    },
    {
     "name": "stdout",
     "output_type": "stream",
     "text": [
      "loss training: 0.052702\n",
      "accuracy train: 0.976190 test: 0.800000\n",
      "\n",
      "Parameter containing:\n",
      "tensor([0., 0., 0., 0.], device='cuda:0', requires_grad=True)\n"
     ]
    },
    {
     "name": "stderr",
     "output_type": "stream",
     "text": [
      "epoch: 80: 100%|██████████| 50/50 [00:01<00:00, 33.68batch/s]\n",
      "epoch: 81:  10%|█         | 5/50 [00:00<00:01, 39.68batch/s]"
     ]
    },
    {
     "name": "stdout",
     "output_type": "stream",
     "text": [
      "loss training: 0.038681\n",
      "accuracy train: 1.000000 test: 0.800000\n",
      "\n",
      "Parameter containing:\n",
      "tensor([0., 0., 0., 0.], device='cuda:0', requires_grad=True)\n"
     ]
    },
    {
     "name": "stderr",
     "output_type": "stream",
     "text": [
      "epoch: 81: 100%|██████████| 50/50 [00:01<00:00, 38.69batch/s]\n",
      "epoch: 82:   6%|▌         | 3/50 [00:00<00:01, 25.97batch/s]"
     ]
    },
    {
     "name": "stdout",
     "output_type": "stream",
     "text": [
      "loss training: 0.050047\n",
      "accuracy train: 0.988095 test: 0.850000\n",
      "\n",
      "Parameter containing:\n",
      "tensor([0., 0., 0., 0.], device='cuda:0', requires_grad=True)\n"
     ]
    },
    {
     "name": "stderr",
     "output_type": "stream",
     "text": [
      "epoch: 82: 100%|██████████| 50/50 [00:01<00:00, 37.09batch/s]\n",
      "epoch: 83:   8%|▊         | 4/50 [00:00<00:01, 39.86batch/s]"
     ]
    },
    {
     "name": "stdout",
     "output_type": "stream",
     "text": [
      "loss training: 0.081172\n",
      "accuracy train: 1.000000 test: 0.750000\n",
      "\n",
      "Parameter containing:\n",
      "tensor([0., 0., 0., 0.], device='cuda:0', requires_grad=True)\n"
     ]
    },
    {
     "name": "stderr",
     "output_type": "stream",
     "text": [
      "epoch: 83: 100%|██████████| 50/50 [00:01<00:00, 38.27batch/s]\n",
      "epoch: 84:  10%|█         | 5/50 [00:00<00:01, 40.09batch/s]"
     ]
    },
    {
     "name": "stdout",
     "output_type": "stream",
     "text": [
      "loss training: 0.077225\n",
      "accuracy train: 0.988095 test: 0.800000\n",
      "\n",
      "Parameter containing:\n",
      "tensor([0., 0., 0., 0.], device='cuda:0', requires_grad=True)\n"
     ]
    },
    {
     "name": "stderr",
     "output_type": "stream",
     "text": [
      "epoch: 84: 100%|██████████| 50/50 [00:01<00:00, 38.06batch/s]\n",
      "epoch: 85:  10%|█         | 5/50 [00:00<00:01, 37.60batch/s]"
     ]
    },
    {
     "name": "stdout",
     "output_type": "stream",
     "text": [
      "loss training: 0.047108\n",
      "accuracy train: 0.982143 test: 0.800000\n",
      "\n",
      "Parameter containing:\n",
      "tensor([0., 0., 0., 0.], device='cuda:0', requires_grad=True)\n"
     ]
    },
    {
     "name": "stderr",
     "output_type": "stream",
     "text": [
      "epoch: 85: 100%|██████████| 50/50 [00:01<00:00, 37.29batch/s]\n",
      "epoch: 86:   8%|▊         | 4/50 [00:00<00:01, 39.71batch/s]"
     ]
    },
    {
     "name": "stdout",
     "output_type": "stream",
     "text": [
      "loss training: 0.031501\n",
      "accuracy train: 0.994048 test: 0.800000\n",
      "\n",
      "Parameter containing:\n",
      "tensor([0., 0., 0., 0.], device='cuda:0', requires_grad=True)\n"
     ]
    },
    {
     "name": "stderr",
     "output_type": "stream",
     "text": [
      "epoch: 86: 100%|██████████| 50/50 [00:01<00:00, 38.69batch/s]\n",
      "epoch: 87:  10%|█         | 5/50 [00:00<00:01, 40.45batch/s]"
     ]
    },
    {
     "name": "stdout",
     "output_type": "stream",
     "text": [
      "loss training: 0.080605\n",
      "accuracy train: 0.994048 test: 0.800000\n",
      "\n",
      "Parameter containing:\n",
      "tensor([0., 0., 0., 0.], device='cuda:0', requires_grad=True)\n"
     ]
    },
    {
     "name": "stderr",
     "output_type": "stream",
     "text": [
      "epoch: 87: 100%|██████████| 50/50 [00:01<00:00, 39.41batch/s]\n",
      "epoch: 88:   8%|▊         | 4/50 [00:00<00:01, 37.84batch/s]"
     ]
    },
    {
     "name": "stdout",
     "output_type": "stream",
     "text": [
      "loss training: 0.051901\n",
      "accuracy train: 0.970238 test: 0.800000\n",
      "\n",
      "Parameter containing:\n",
      "tensor([0., 0., 0., 0.], device='cuda:0', requires_grad=True)\n"
     ]
    },
    {
     "name": "stderr",
     "output_type": "stream",
     "text": [
      "epoch: 88: 100%|██████████| 50/50 [00:01<00:00, 38.35batch/s]\n",
      "epoch: 89:   8%|▊         | 4/50 [00:00<00:01, 38.43batch/s]"
     ]
    },
    {
     "name": "stdout",
     "output_type": "stream",
     "text": [
      "loss training: 0.125937\n",
      "accuracy train: 0.928571 test: 0.750000\n",
      "\n",
      "Parameter containing:\n",
      "tensor([0., 0., 0., 0.], device='cuda:0', requires_grad=True)\n"
     ]
    },
    {
     "name": "stderr",
     "output_type": "stream",
     "text": [
      "epoch: 89: 100%|██████████| 50/50 [00:01<00:00, 37.94batch/s]\n",
      "epoch: 90:  10%|█         | 5/50 [00:00<00:01, 40.36batch/s]"
     ]
    },
    {
     "name": "stdout",
     "output_type": "stream",
     "text": [
      "loss training: 0.280548\n",
      "accuracy train: 0.970238 test: 0.750000\n",
      "\n",
      "Parameter containing:\n",
      "tensor([0., 0., 0., 0.], device='cuda:0', requires_grad=True)\n"
     ]
    },
    {
     "name": "stderr",
     "output_type": "stream",
     "text": [
      "epoch: 90: 100%|██████████| 50/50 [00:01<00:00, 38.83batch/s]\n",
      "epoch: 91:  10%|█         | 5/50 [00:00<00:01, 40.92batch/s]"
     ]
    },
    {
     "name": "stdout",
     "output_type": "stream",
     "text": [
      "loss training: 0.135505\n",
      "accuracy train: 0.994048 test: 0.800000\n",
      "\n",
      "Parameter containing:\n",
      "tensor([0., 0., 0., 0.], device='cuda:0', requires_grad=True)\n"
     ]
    },
    {
     "name": "stderr",
     "output_type": "stream",
     "text": [
      "epoch: 91: 100%|██████████| 50/50 [00:01<00:00, 39.42batch/s]\n",
      "epoch: 92:  10%|█         | 5/50 [00:00<00:01, 40.04batch/s]"
     ]
    },
    {
     "name": "stdout",
     "output_type": "stream",
     "text": [
      "loss training: 0.090915\n",
      "accuracy train: 0.982143 test: 0.750000\n",
      "\n",
      "Parameter containing:\n",
      "tensor([0., 0., 0., 0.], device='cuda:0', requires_grad=True)\n"
     ]
    },
    {
     "name": "stderr",
     "output_type": "stream",
     "text": [
      "epoch: 92: 100%|██████████| 50/50 [00:01<00:00, 37.90batch/s]\n",
      "epoch: 93:   8%|▊         | 4/50 [00:00<00:01, 38.98batch/s]"
     ]
    },
    {
     "name": "stdout",
     "output_type": "stream",
     "text": [
      "loss training: 0.077573\n",
      "accuracy train: 1.000000 test: 0.800000\n",
      "\n",
      "Parameter containing:\n",
      "tensor([0., 0., 0., 0.], device='cuda:0', requires_grad=True)\n"
     ]
    },
    {
     "name": "stderr",
     "output_type": "stream",
     "text": [
      "epoch: 93: 100%|██████████| 50/50 [00:01<00:00, 37.75batch/s]\n",
      "epoch: 94:   8%|▊         | 4/50 [00:00<00:01, 38.66batch/s]"
     ]
    },
    {
     "name": "stdout",
     "output_type": "stream",
     "text": [
      "loss training: 0.088945\n",
      "accuracy train: 0.988095 test: 0.800000\n",
      "\n",
      "Parameter containing:\n",
      "tensor([0., 0., 0., 0.], device='cuda:0', requires_grad=True)\n"
     ]
    },
    {
     "name": "stderr",
     "output_type": "stream",
     "text": [
      "epoch: 94: 100%|██████████| 50/50 [00:01<00:00, 38.30batch/s]\n",
      "epoch: 95:  10%|█         | 5/50 [00:00<00:01, 40.37batch/s]"
     ]
    },
    {
     "name": "stdout",
     "output_type": "stream",
     "text": [
      "loss training: 0.079907\n",
      "accuracy train: 0.994048 test: 0.750000\n",
      "\n",
      "Parameter containing:\n",
      "tensor([0., 0., 0., 0.], device='cuda:0', requires_grad=True)\n"
     ]
    },
    {
     "name": "stderr",
     "output_type": "stream",
     "text": [
      "epoch: 95: 100%|██████████| 50/50 [00:01<00:00, 39.01batch/s]\n",
      "epoch: 96:  10%|█         | 5/50 [00:00<00:01, 40.77batch/s]"
     ]
    },
    {
     "name": "stdout",
     "output_type": "stream",
     "text": [
      "loss training: 0.077677\n",
      "accuracy train: 1.000000 test: 0.750000\n",
      "\n",
      "Parameter containing:\n",
      "tensor([0., 0., 0., 0.], device='cuda:0', requires_grad=True)\n"
     ]
    },
    {
     "name": "stderr",
     "output_type": "stream",
     "text": [
      "epoch: 96: 100%|██████████| 50/50 [00:01<00:00, 38.01batch/s]\n",
      "epoch: 97:  10%|█         | 5/50 [00:00<00:01, 41.05batch/s]"
     ]
    },
    {
     "name": "stdout",
     "output_type": "stream",
     "text": [
      "loss training: 0.045901\n",
      "accuracy train: 0.994048 test: 0.750000\n",
      "\n",
      "Parameter containing:\n",
      "tensor([0., 0., 0., 0.], device='cuda:0', requires_grad=True)\n"
     ]
    },
    {
     "name": "stderr",
     "output_type": "stream",
     "text": [
      "epoch: 97: 100%|██████████| 50/50 [00:01<00:00, 39.76batch/s]\n",
      "epoch: 98:  10%|█         | 5/50 [00:00<00:01, 40.61batch/s]"
     ]
    },
    {
     "name": "stdout",
     "output_type": "stream",
     "text": [
      "loss training: 0.046276\n",
      "accuracy train: 1.000000 test: 0.750000\n",
      "\n",
      "Parameter containing:\n",
      "tensor([0., 0., 0., 0.], device='cuda:0', requires_grad=True)\n"
     ]
    },
    {
     "name": "stderr",
     "output_type": "stream",
     "text": [
      "epoch: 98: 100%|██████████| 50/50 [00:01<00:00, 37.69batch/s]\n",
      "epoch: 99:  10%|█         | 5/50 [00:00<00:01, 40.43batch/s]"
     ]
    },
    {
     "name": "stdout",
     "output_type": "stream",
     "text": [
      "loss training: 0.075300\n",
      "accuracy train: 0.976190 test: 0.850000\n",
      "\n",
      "Parameter containing:\n",
      "tensor([0., 0., 0., 0.], device='cuda:0', requires_grad=True)\n"
     ]
    },
    {
     "name": "stderr",
     "output_type": "stream",
     "text": [
      "epoch: 99: 100%|██████████| 50/50 [00:01<00:00, 38.35batch/s]\n",
      "epoch: 100:  10%|█         | 5/50 [00:00<00:01, 40.23batch/s]"
     ]
    },
    {
     "name": "stdout",
     "output_type": "stream",
     "text": [
      "loss training: 0.169046\n",
      "accuracy train: 0.904762 test: 0.800000\n",
      "\n",
      "Parameter containing:\n",
      "tensor([0., 0., 0., 0.], device='cuda:0', requires_grad=True)\n"
     ]
    },
    {
     "name": "stderr",
     "output_type": "stream",
     "text": [
      "epoch: 100: 100%|██████████| 50/50 [00:01<00:00, 38.44batch/s]\n",
      "epoch: 101:  10%|█         | 5/50 [00:00<00:01, 40.79batch/s]"
     ]
    },
    {
     "name": "stdout",
     "output_type": "stream",
     "text": [
      "loss training: 0.164344\n",
      "accuracy train: 0.952381 test: 0.750000\n",
      "\n",
      "Parameter containing:\n",
      "tensor([0., 0., 0., 0.], device='cuda:0', requires_grad=True)\n"
     ]
    },
    {
     "name": "stderr",
     "output_type": "stream",
     "text": [
      "epoch: 101: 100%|██████████| 50/50 [00:01<00:00, 37.88batch/s]\n",
      "epoch: 102:  10%|█         | 5/50 [00:00<00:01, 40.14batch/s]"
     ]
    },
    {
     "name": "stdout",
     "output_type": "stream",
     "text": [
      "loss training: 0.088448\n",
      "accuracy train: 0.994048 test: 0.850000\n",
      "\n",
      "Parameter containing:\n",
      "tensor([0., 0., 0., 0.], device='cuda:0', requires_grad=True)\n"
     ]
    },
    {
     "name": "stderr",
     "output_type": "stream",
     "text": [
      "epoch: 102: 100%|██████████| 50/50 [00:01<00:00, 39.33batch/s]\n",
      "epoch: 103:  10%|█         | 5/50 [00:00<00:01, 40.83batch/s]"
     ]
    },
    {
     "name": "stdout",
     "output_type": "stream",
     "text": [
      "loss training: 0.056343\n",
      "accuracy train: 0.988095 test: 0.800000\n",
      "\n",
      "Parameter containing:\n",
      "tensor([0., 0., 0., 0.], device='cuda:0', requires_grad=True)\n"
     ]
    },
    {
     "name": "stderr",
     "output_type": "stream",
     "text": [
      "epoch: 103: 100%|██████████| 50/50 [00:01<00:00, 38.60batch/s]\n",
      "epoch: 104:  10%|█         | 5/50 [00:00<00:01, 41.01batch/s]"
     ]
    },
    {
     "name": "stdout",
     "output_type": "stream",
     "text": [
      "loss training: 0.052435\n",
      "accuracy train: 1.000000 test: 0.850000\n",
      "\n",
      "Parameter containing:\n",
      "tensor([0., 0., 0., 0.], device='cuda:0', requires_grad=True)\n"
     ]
    },
    {
     "name": "stderr",
     "output_type": "stream",
     "text": [
      "epoch: 104: 100%|██████████| 50/50 [00:01<00:00, 39.18batch/s]\n",
      "epoch: 105:   8%|▊         | 4/50 [00:00<00:01, 37.32batch/s]"
     ]
    },
    {
     "name": "stdout",
     "output_type": "stream",
     "text": [
      "loss training: 0.034811\n",
      "accuracy train: 1.000000 test: 0.850000\n",
      "\n",
      "Parameter containing:\n",
      "tensor([0., 0., 0., 0.], device='cuda:0', requires_grad=True)\n"
     ]
    },
    {
     "name": "stderr",
     "output_type": "stream",
     "text": [
      "epoch: 105: 100%|██████████| 50/50 [00:01<00:00, 38.74batch/s]\n",
      "epoch: 106:  10%|█         | 5/50 [00:00<00:01, 40.80batch/s]"
     ]
    },
    {
     "name": "stdout",
     "output_type": "stream",
     "text": [
      "loss training: 0.029655\n",
      "accuracy train: 1.000000 test: 0.850000\n",
      "\n",
      "Parameter containing:\n",
      "tensor([0., 0., 0., 0.], device='cuda:0', requires_grad=True)\n"
     ]
    },
    {
     "name": "stderr",
     "output_type": "stream",
     "text": [
      "epoch: 106: 100%|██████████| 50/50 [00:01<00:00, 38.90batch/s]\n",
      "epoch: 107:   8%|▊         | 4/50 [00:00<00:01, 39.09batch/s]"
     ]
    },
    {
     "name": "stdout",
     "output_type": "stream",
     "text": [
      "loss training: 0.030537\n",
      "accuracy train: 1.000000 test: 0.850000\n",
      "\n",
      "Parameter containing:\n",
      "tensor([0., 0., 0., 0.], device='cuda:0', requires_grad=True)\n"
     ]
    },
    {
     "name": "stderr",
     "output_type": "stream",
     "text": [
      "epoch: 107: 100%|██████████| 50/50 [00:01<00:00, 38.06batch/s]\n",
      "epoch: 108:  10%|█         | 5/50 [00:00<00:01, 40.32batch/s]"
     ]
    },
    {
     "name": "stdout",
     "output_type": "stream",
     "text": [
      "loss training: 0.036321\n",
      "accuracy train: 0.994048 test: 0.850000\n",
      "\n",
      "Parameter containing:\n",
      "tensor([0., 0., 0., 0.], device='cuda:0', requires_grad=True)\n"
     ]
    },
    {
     "name": "stderr",
     "output_type": "stream",
     "text": [
      "epoch: 108: 100%|██████████| 50/50 [00:01<00:00, 39.14batch/s]\n",
      "epoch: 109:  10%|█         | 5/50 [00:00<00:01, 39.94batch/s]"
     ]
    },
    {
     "name": "stdout",
     "output_type": "stream",
     "text": [
      "loss training: 0.039135\n",
      "accuracy train: 1.000000 test: 0.800000\n",
      "\n",
      "Parameter containing:\n",
      "tensor([0., 0., 0., 0.], device='cuda:0', requires_grad=True)\n"
     ]
    },
    {
     "name": "stderr",
     "output_type": "stream",
     "text": [
      "epoch: 109: 100%|██████████| 50/50 [00:01<00:00, 36.92batch/s]\n",
      "epoch: 110:  10%|█         | 5/50 [00:00<00:01, 39.60batch/s]"
     ]
    },
    {
     "name": "stdout",
     "output_type": "stream",
     "text": [
      "loss training: 0.024275\n",
      "accuracy train: 1.000000 test: 0.850000\n",
      "\n",
      "Parameter containing:\n",
      "tensor([0., 0., 0., 0.], device='cuda:0', requires_grad=True)\n"
     ]
    },
    {
     "name": "stderr",
     "output_type": "stream",
     "text": [
      "epoch: 110: 100%|██████████| 50/50 [00:01<00:00, 37.62batch/s]\n",
      "epoch: 111:   8%|▊         | 4/50 [00:00<00:01, 39.94batch/s]"
     ]
    },
    {
     "name": "stdout",
     "output_type": "stream",
     "text": [
      "loss training: 0.028321\n",
      "accuracy train: 1.000000 test: 0.850000\n",
      "\n",
      "Parameter containing:\n",
      "tensor([0., 0., 0., 0.], device='cuda:0', requires_grad=True)\n"
     ]
    },
    {
     "name": "stderr",
     "output_type": "stream",
     "text": [
      "epoch: 111: 100%|██████████| 50/50 [00:01<00:00, 34.64batch/s]\n",
      "epoch: 112:  10%|█         | 5/50 [00:00<00:01, 40.24batch/s]"
     ]
    },
    {
     "name": "stdout",
     "output_type": "stream",
     "text": [
      "loss training: 0.033552\n",
      "accuracy train: 1.000000 test: 0.850000\n",
      "\n",
      "Parameter containing:\n",
      "tensor([0., 0., 0., 0.], device='cuda:0', requires_grad=True)\n"
     ]
    },
    {
     "name": "stderr",
     "output_type": "stream",
     "text": [
      "epoch: 112: 100%|██████████| 50/50 [00:01<00:00, 38.02batch/s]\n",
      "epoch: 113:   8%|▊         | 4/50 [00:00<00:01, 38.85batch/s]"
     ]
    },
    {
     "name": "stdout",
     "output_type": "stream",
     "text": [
      "loss training: 0.019250\n",
      "accuracy train: 1.000000 test: 0.850000\n",
      "\n",
      "Parameter containing:\n",
      "tensor([0., 0., 0., 0.], device='cuda:0', requires_grad=True)\n"
     ]
    },
    {
     "name": "stderr",
     "output_type": "stream",
     "text": [
      "epoch: 113: 100%|██████████| 50/50 [00:01<00:00, 38.24batch/s]\n",
      "epoch: 114:   8%|▊         | 4/50 [00:00<00:01, 38.64batch/s]"
     ]
    },
    {
     "name": "stdout",
     "output_type": "stream",
     "text": [
      "loss training: 0.038007\n",
      "accuracy train: 1.000000 test: 0.850000\n",
      "\n",
      "Parameter containing:\n",
      "tensor([0., 0., 0., 0.], device='cuda:0', requires_grad=True)\n"
     ]
    },
    {
     "name": "stderr",
     "output_type": "stream",
     "text": [
      "epoch: 114: 100%|██████████| 50/50 [00:01<00:00, 38.84batch/s]\n",
      "epoch: 115:   8%|▊         | 4/50 [00:00<00:01, 40.00batch/s]"
     ]
    },
    {
     "name": "stdout",
     "output_type": "stream",
     "text": [
      "loss training: 0.028965\n",
      "accuracy train: 1.000000 test: 0.800000\n",
      "\n",
      "Parameter containing:\n",
      "tensor([0., 0., 0., 0.], device='cuda:0', requires_grad=True)\n"
     ]
    },
    {
     "name": "stderr",
     "output_type": "stream",
     "text": [
      "epoch: 115: 100%|██████████| 50/50 [00:01<00:00, 36.86batch/s]\n",
      "epoch: 116:   8%|▊         | 4/50 [00:00<00:01, 36.44batch/s]"
     ]
    },
    {
     "name": "stdout",
     "output_type": "stream",
     "text": [
      "loss training: 0.018638\n",
      "accuracy train: 1.000000 test: 0.800000\n",
      "\n",
      "Parameter containing:\n",
      "tensor([0., 0., 0., 0.], device='cuda:0', requires_grad=True)\n"
     ]
    },
    {
     "name": "stderr",
     "output_type": "stream",
     "text": [
      "epoch: 116: 100%|██████████| 50/50 [00:01<00:00, 38.90batch/s]\n",
      "epoch: 117:  10%|█         | 5/50 [00:00<00:01, 41.00batch/s]"
     ]
    },
    {
     "name": "stdout",
     "output_type": "stream",
     "text": [
      "loss training: 0.033343\n",
      "accuracy train: 0.988095 test: 0.850000\n",
      "\n",
      "Parameter containing:\n",
      "tensor([0., 0., 0., 0.], device='cuda:0', requires_grad=True)\n"
     ]
    },
    {
     "name": "stderr",
     "output_type": "stream",
     "text": [
      "epoch: 117: 100%|██████████| 50/50 [00:01<00:00, 38.74batch/s]\n",
      "epoch: 118:   8%|▊         | 4/50 [00:00<00:01, 37.08batch/s]"
     ]
    },
    {
     "name": "stdout",
     "output_type": "stream",
     "text": [
      "loss training: 0.072344\n",
      "accuracy train: 0.994048 test: 0.800000\n",
      "\n",
      "Parameter containing:\n",
      "tensor([0., 0., 0., 0.], device='cuda:0', requires_grad=True)\n"
     ]
    },
    {
     "name": "stderr",
     "output_type": "stream",
     "text": [
      "epoch: 118: 100%|██████████| 50/50 [00:01<00:00, 38.48batch/s]\n",
      "epoch: 119:  10%|█         | 5/50 [00:00<00:01, 40.25batch/s]"
     ]
    },
    {
     "name": "stdout",
     "output_type": "stream",
     "text": [
      "loss training: 0.041012\n",
      "accuracy train: 1.000000 test: 0.800000\n",
      "\n",
      "Parameter containing:\n",
      "tensor([0., 0., 0., 0.], device='cuda:0', requires_grad=True)\n"
     ]
    },
    {
     "name": "stderr",
     "output_type": "stream",
     "text": [
      "epoch: 119: 100%|██████████| 50/50 [00:01<00:00, 39.08batch/s]\n",
      "epoch: 120:   8%|▊         | 4/50 [00:00<00:01, 38.64batch/s]"
     ]
    },
    {
     "name": "stdout",
     "output_type": "stream",
     "text": [
      "loss training: 0.028381\n",
      "accuracy train: 1.000000 test: 0.850000\n",
      "\n",
      "Parameter containing:\n",
      "tensor([0., 0., 0., 0.], device='cuda:0', requires_grad=True)\n"
     ]
    },
    {
     "name": "stderr",
     "output_type": "stream",
     "text": [
      "epoch: 120: 100%|██████████| 50/50 [00:01<00:00, 38.45batch/s]\n",
      "epoch: 121:  10%|█         | 5/50 [00:00<00:01, 40.38batch/s]"
     ]
    },
    {
     "name": "stdout",
     "output_type": "stream",
     "text": [
      "loss training: 0.019449\n",
      "accuracy train: 1.000000 test: 0.850000\n",
      "\n",
      "Parameter containing:\n",
      "tensor([0., 0., 0., 0.], device='cuda:0', requires_grad=True)\n"
     ]
    },
    {
     "name": "stderr",
     "output_type": "stream",
     "text": [
      "epoch: 121: 100%|██████████| 50/50 [00:01<00:00, 37.87batch/s]\n",
      "epoch: 122:   8%|▊         | 4/50 [00:00<00:01, 39.21batch/s]"
     ]
    },
    {
     "name": "stdout",
     "output_type": "stream",
     "text": [
      "loss training: 0.013031\n",
      "accuracy train: 1.000000 test: 0.850000\n",
      "\n",
      "Parameter containing:\n",
      "tensor([0., 0., 0., 0.], device='cuda:0', requires_grad=True)\n"
     ]
    },
    {
     "name": "stderr",
     "output_type": "stream",
     "text": [
      "epoch: 122: 100%|██████████| 50/50 [00:01<00:00, 37.93batch/s]\n",
      "epoch: 123:  10%|█         | 5/50 [00:00<00:01, 40.55batch/s]"
     ]
    },
    {
     "name": "stdout",
     "output_type": "stream",
     "text": [
      "loss training: 0.020878\n",
      "accuracy train: 1.000000 test: 0.800000\n",
      "\n",
      "Parameter containing:\n",
      "tensor([0., 0., 0., 0.], device='cuda:0', requires_grad=True)\n"
     ]
    },
    {
     "name": "stderr",
     "output_type": "stream",
     "text": [
      "epoch: 123: 100%|██████████| 50/50 [00:01<00:00, 39.40batch/s]\n",
      "epoch: 124:  10%|█         | 5/50 [00:00<00:01, 40.42batch/s]"
     ]
    },
    {
     "name": "stdout",
     "output_type": "stream",
     "text": [
      "loss training: 0.017222\n",
      "accuracy train: 1.000000 test: 0.850000\n",
      "\n",
      "Parameter containing:\n",
      "tensor([0., 0., 0., 0.], device='cuda:0', requires_grad=True)\n"
     ]
    },
    {
     "name": "stderr",
     "output_type": "stream",
     "text": [
      "epoch: 124: 100%|██████████| 50/50 [00:01<00:00, 36.78batch/s]\n",
      "epoch: 125:   8%|▊         | 4/50 [00:00<00:01, 31.15batch/s]"
     ]
    },
    {
     "name": "stdout",
     "output_type": "stream",
     "text": [
      "loss training: 0.014698\n",
      "accuracy train: 1.000000 test: 0.850000\n",
      "\n",
      "Parameter containing:\n",
      "tensor([0., 0., 0., 0.], device='cuda:0', requires_grad=True)\n"
     ]
    },
    {
     "name": "stderr",
     "output_type": "stream",
     "text": [
      "epoch: 125: 100%|██████████| 50/50 [00:01<00:00, 37.32batch/s]\n",
      "epoch: 126:  10%|█         | 5/50 [00:00<00:01, 40.63batch/s]"
     ]
    },
    {
     "name": "stdout",
     "output_type": "stream",
     "text": [
      "loss training: 0.014848\n",
      "accuracy train: 1.000000 test: 0.850000\n",
      "\n",
      "Parameter containing:\n",
      "tensor([0., 0., 0., 0.], device='cuda:0', requires_grad=True)\n"
     ]
    },
    {
     "name": "stderr",
     "output_type": "stream",
     "text": [
      "epoch: 126: 100%|██████████| 50/50 [00:01<00:00, 35.61batch/s]\n",
      "epoch: 127:  10%|█         | 5/50 [00:00<00:01, 40.34batch/s]"
     ]
    },
    {
     "name": "stdout",
     "output_type": "stream",
     "text": [
      "loss training: 0.020625\n",
      "accuracy train: 1.000000 test: 0.850000\n",
      "\n",
      "Parameter containing:\n",
      "tensor([0., 0., 0., 0.], device='cuda:0', requires_grad=True)\n"
     ]
    },
    {
     "name": "stderr",
     "output_type": "stream",
     "text": [
      "epoch: 127: 100%|██████████| 50/50 [00:01<00:00, 37.86batch/s]\n",
      "epoch: 128:  10%|█         | 5/50 [00:00<00:01, 40.35batch/s]"
     ]
    },
    {
     "name": "stdout",
     "output_type": "stream",
     "text": [
      "loss training: 0.016497\n",
      "accuracy train: 1.000000 test: 0.850000\n",
      "\n",
      "Parameter containing:\n",
      "tensor([0., 0., 0., 0.], device='cuda:0', requires_grad=True)\n"
     ]
    },
    {
     "name": "stderr",
     "output_type": "stream",
     "text": [
      "epoch: 128: 100%|██████████| 50/50 [00:01<00:00, 38.60batch/s]\n",
      "epoch: 129:  10%|█         | 5/50 [00:00<00:01, 39.48batch/s]"
     ]
    },
    {
     "name": "stdout",
     "output_type": "stream",
     "text": [
      "loss training: 0.013557\n",
      "accuracy train: 1.000000 test: 0.850000\n",
      "\n",
      "Parameter containing:\n",
      "tensor([0., 0., 0., 0.], device='cuda:0', requires_grad=True)\n"
     ]
    },
    {
     "name": "stderr",
     "output_type": "stream",
     "text": [
      "epoch: 129: 100%|██████████| 50/50 [00:01<00:00, 38.18batch/s]\n",
      "epoch: 130:   8%|▊         | 4/50 [00:00<00:01, 39.17batch/s]"
     ]
    },
    {
     "name": "stdout",
     "output_type": "stream",
     "text": [
      "loss training: 0.013913\n",
      "accuracy train: 1.000000 test: 0.800000\n",
      "\n",
      "Parameter containing:\n",
      "tensor([0., 0., 0., 0.], device='cuda:0', requires_grad=True)\n"
     ]
    },
    {
     "name": "stderr",
     "output_type": "stream",
     "text": [
      "epoch: 130: 100%|██████████| 50/50 [00:01<00:00, 36.11batch/s]\n",
      "epoch: 131:   8%|▊         | 4/50 [00:00<00:01, 37.95batch/s]"
     ]
    },
    {
     "name": "stdout",
     "output_type": "stream",
     "text": [
      "loss training: 0.020426\n",
      "accuracy train: 1.000000 test: 0.800000\n",
      "\n",
      "Parameter containing:\n",
      "tensor([0., 0., 0., 0.], device='cuda:0', requires_grad=True)\n"
     ]
    },
    {
     "name": "stderr",
     "output_type": "stream",
     "text": [
      "epoch: 131: 100%|██████████| 50/50 [00:01<00:00, 37.25batch/s]\n",
      "epoch: 132:   8%|▊         | 4/50 [00:00<00:01, 39.60batch/s]"
     ]
    },
    {
     "name": "stdout",
     "output_type": "stream",
     "text": [
      "loss training: 0.013868\n",
      "accuracy train: 1.000000 test: 0.800000\n",
      "\n",
      "Parameter containing:\n",
      "tensor([0., 0., 0., 0.], device='cuda:0', requires_grad=True)\n"
     ]
    },
    {
     "name": "stderr",
     "output_type": "stream",
     "text": [
      "epoch: 132: 100%|██████████| 50/50 [00:01<00:00, 39.16batch/s]\n",
      "epoch: 133:  10%|█         | 5/50 [00:00<00:01, 40.71batch/s]"
     ]
    },
    {
     "name": "stdout",
     "output_type": "stream",
     "text": [
      "loss training: 0.022866\n",
      "accuracy train: 1.000000 test: 0.800000\n",
      "\n",
      "Parameter containing:\n",
      "tensor([0., 0., 0., 0.], device='cuda:0', requires_grad=True)\n"
     ]
    },
    {
     "name": "stderr",
     "output_type": "stream",
     "text": [
      "epoch: 133: 100%|██████████| 50/50 [00:01<00:00, 38.81batch/s]\n",
      "epoch: 134:   8%|▊         | 4/50 [00:00<00:01, 39.59batch/s]"
     ]
    },
    {
     "name": "stdout",
     "output_type": "stream",
     "text": [
      "loss training: 0.029577\n",
      "accuracy train: 1.000000 test: 0.800000\n",
      "\n",
      "Parameter containing:\n",
      "tensor([0., 0., 0., 0.], device='cuda:0', requires_grad=True)\n"
     ]
    },
    {
     "name": "stderr",
     "output_type": "stream",
     "text": [
      "epoch: 134: 100%|██████████| 50/50 [00:01<00:00, 38.21batch/s]\n",
      "epoch: 135:   8%|▊         | 4/50 [00:00<00:01, 36.45batch/s]"
     ]
    },
    {
     "name": "stdout",
     "output_type": "stream",
     "text": [
      "loss training: 0.014369\n",
      "accuracy train: 1.000000 test: 0.750000\n",
      "\n",
      "Parameter containing:\n",
      "tensor([0., 0., 0., 0.], device='cuda:0', requires_grad=True)\n"
     ]
    },
    {
     "name": "stderr",
     "output_type": "stream",
     "text": [
      "epoch: 135: 100%|██████████| 50/50 [00:01<00:00, 35.48batch/s]\n",
      "epoch: 136:  10%|█         | 5/50 [00:00<00:01, 40.62batch/s]"
     ]
    },
    {
     "name": "stdout",
     "output_type": "stream",
     "text": [
      "loss training: 0.025642\n",
      "accuracy train: 1.000000 test: 0.750000\n",
      "\n",
      "Parameter containing:\n",
      "tensor([0., 0., 0., 0.], device='cuda:0', requires_grad=True)\n"
     ]
    },
    {
     "name": "stderr",
     "output_type": "stream",
     "text": [
      "epoch: 136: 100%|██████████| 50/50 [00:01<00:00, 38.91batch/s]\n",
      "epoch: 137:  10%|█         | 5/50 [00:00<00:01, 40.45batch/s]"
     ]
    },
    {
     "name": "stdout",
     "output_type": "stream",
     "text": [
      "loss training: 0.016841\n",
      "accuracy train: 1.000000 test: 0.800000\n",
      "\n",
      "Parameter containing:\n",
      "tensor([0., 0., 0., 0.], device='cuda:0', requires_grad=True)\n"
     ]
    },
    {
     "name": "stderr",
     "output_type": "stream",
     "text": [
      "epoch: 137: 100%|██████████| 50/50 [00:01<00:00, 38.16batch/s]\n",
      "epoch: 138:   8%|▊         | 4/50 [00:00<00:01, 38.96batch/s]"
     ]
    },
    {
     "name": "stdout",
     "output_type": "stream",
     "text": [
      "loss training: 0.018987\n",
      "accuracy train: 1.000000 test: 0.850000\n",
      "\n",
      "Parameter containing:\n",
      "tensor([0., 0., 0., 0.], device='cuda:0', requires_grad=True)\n"
     ]
    },
    {
     "name": "stderr",
     "output_type": "stream",
     "text": [
      "epoch: 138: 100%|██████████| 50/50 [00:01<00:00, 37.96batch/s]\n",
      "epoch: 139:   8%|▊         | 4/50 [00:00<00:01, 38.03batch/s]"
     ]
    },
    {
     "name": "stdout",
     "output_type": "stream",
     "text": [
      "loss training: 0.014275\n",
      "accuracy train: 1.000000 test: 0.800000\n",
      "\n",
      "Parameter containing:\n",
      "tensor([0., 0., 0., 0.], device='cuda:0', requires_grad=True)\n"
     ]
    },
    {
     "name": "stderr",
     "output_type": "stream",
     "text": [
      "epoch: 139: 100%|██████████| 50/50 [00:01<00:00, 37.82batch/s]\n",
      "epoch: 140:  10%|█         | 5/50 [00:00<00:01, 40.40batch/s]"
     ]
    },
    {
     "name": "stdout",
     "output_type": "stream",
     "text": [
      "loss training: 0.012035\n",
      "accuracy train: 1.000000 test: 0.850000\n",
      "\n",
      "Parameter containing:\n",
      "tensor([0., 0., 0., 0.], device='cuda:0', requires_grad=True)\n"
     ]
    },
    {
     "name": "stderr",
     "output_type": "stream",
     "text": [
      "epoch: 140: 100%|██████████| 50/50 [00:01<00:00, 39.15batch/s]\n",
      "epoch: 141:   8%|▊         | 4/50 [00:00<00:01, 38.99batch/s]"
     ]
    },
    {
     "name": "stdout",
     "output_type": "stream",
     "text": [
      "loss training: 0.018227\n",
      "accuracy train: 1.000000 test: 0.800000\n",
      "\n",
      "Parameter containing:\n",
      "tensor([0., 0., 0., 0.], device='cuda:0', requires_grad=True)\n"
     ]
    },
    {
     "name": "stderr",
     "output_type": "stream",
     "text": [
      "epoch: 141: 100%|██████████| 50/50 [00:01<00:00, 39.43batch/s]\n",
      "epoch: 142:  10%|█         | 5/50 [00:00<00:01, 40.63batch/s]"
     ]
    },
    {
     "name": "stdout",
     "output_type": "stream",
     "text": [
      "loss training: 0.026496\n",
      "accuracy train: 0.982143 test: 0.750000\n",
      "\n",
      "Parameter containing:\n",
      "tensor([0., 0., 0., 0.], device='cuda:0', requires_grad=True)\n"
     ]
    },
    {
     "name": "stderr",
     "output_type": "stream",
     "text": [
      "epoch: 142: 100%|██████████| 50/50 [00:01<00:00, 38.45batch/s]\n",
      "epoch: 143:  10%|█         | 5/50 [00:00<00:01, 40.50batch/s]"
     ]
    },
    {
     "name": "stdout",
     "output_type": "stream",
     "text": [
      "loss training: 0.027579\n",
      "accuracy train: 1.000000 test: 0.800000\n",
      "\n",
      "Parameter containing:\n",
      "tensor([0., 0., 0., 0.], device='cuda:0', requires_grad=True)\n"
     ]
    },
    {
     "name": "stderr",
     "output_type": "stream",
     "text": [
      "epoch: 143: 100%|██████████| 50/50 [00:01<00:00, 38.81batch/s]\n",
      "epoch: 144:   8%|▊         | 4/50 [00:00<00:01, 38.41batch/s]"
     ]
    },
    {
     "name": "stdout",
     "output_type": "stream",
     "text": [
      "loss training: 0.019370\n",
      "accuracy train: 1.000000 test: 0.800000\n",
      "\n",
      "Parameter containing:\n",
      "tensor([0., 0., 0., 0.], device='cuda:0', requires_grad=True)\n"
     ]
    },
    {
     "name": "stderr",
     "output_type": "stream",
     "text": [
      "epoch: 144: 100%|██████████| 50/50 [00:01<00:00, 39.19batch/s]\n",
      "epoch: 145:   8%|▊         | 4/50 [00:00<00:01, 39.97batch/s]"
     ]
    },
    {
     "name": "stdout",
     "output_type": "stream",
     "text": [
      "loss training: 0.019698\n",
      "accuracy train: 1.000000 test: 0.800000\n",
      "\n",
      "Parameter containing:\n",
      "tensor([0., 0., 0., 0.], device='cuda:0', requires_grad=True)\n"
     ]
    },
    {
     "name": "stderr",
     "output_type": "stream",
     "text": [
      "epoch: 145: 100%|██████████| 50/50 [00:01<00:00, 39.34batch/s]\n",
      "epoch: 146:   6%|▌         | 3/50 [00:00<00:01, 28.73batch/s]"
     ]
    },
    {
     "name": "stdout",
     "output_type": "stream",
     "text": [
      "loss training: 0.028139\n",
      "accuracy train: 0.994048 test: 0.850000\n",
      "\n",
      "Parameter containing:\n",
      "tensor([0., 0., 0., 0.], device='cuda:0', requires_grad=True)\n"
     ]
    },
    {
     "name": "stderr",
     "output_type": "stream",
     "text": [
      "epoch: 146: 100%|██████████| 50/50 [00:01<00:00, 37.75batch/s]\n",
      "epoch: 147:  10%|█         | 5/50 [00:00<00:01, 40.36batch/s]"
     ]
    },
    {
     "name": "stdout",
     "output_type": "stream",
     "text": [
      "loss training: 0.024623\n",
      "accuracy train: 1.000000 test: 0.800000\n",
      "\n",
      "Parameter containing:\n",
      "tensor([0., 0., 0., 0.], device='cuda:0', requires_grad=True)\n"
     ]
    },
    {
     "name": "stderr",
     "output_type": "stream",
     "text": [
      "epoch: 147: 100%|██████████| 50/50 [00:01<00:00, 37.85batch/s]\n",
      "epoch: 148:   8%|▊         | 4/50 [00:00<00:01, 39.22batch/s]"
     ]
    },
    {
     "name": "stdout",
     "output_type": "stream",
     "text": [
      "loss training: 0.014560\n",
      "accuracy train: 1.000000 test: 0.850000\n",
      "\n",
      "Parameter containing:\n",
      "tensor([0., 0., 0., 0.], device='cuda:0', requires_grad=True)\n"
     ]
    },
    {
     "name": "stderr",
     "output_type": "stream",
     "text": [
      "epoch: 148: 100%|██████████| 50/50 [00:01<00:00, 38.51batch/s]\n",
      "epoch: 149:   8%|▊         | 4/50 [00:00<00:01, 36.56batch/s]"
     ]
    },
    {
     "name": "stdout",
     "output_type": "stream",
     "text": [
      "loss training: 0.011033\n",
      "accuracy train: 1.000000 test: 0.850000\n",
      "\n",
      "Parameter containing:\n",
      "tensor([0., 0., 0., 0.], device='cuda:0', requires_grad=True)\n"
     ]
    },
    {
     "name": "stderr",
     "output_type": "stream",
     "text": [
      "epoch: 149: 100%|██████████| 50/50 [00:01<00:00, 37.91batch/s]\n",
      "epoch: 150:   8%|▊         | 4/50 [00:00<00:01, 39.87batch/s]"
     ]
    },
    {
     "name": "stdout",
     "output_type": "stream",
     "text": [
      "loss training: 0.015508\n",
      "accuracy train: 1.000000 test: 0.850000\n",
      "\n",
      "Parameter containing:\n",
      "tensor([0., 0., 0., 0.], device='cuda:0', requires_grad=True)\n"
     ]
    },
    {
     "name": "stderr",
     "output_type": "stream",
     "text": [
      "epoch: 150: 100%|██████████| 50/50 [00:01<00:00, 37.80batch/s]\n",
      "epoch: 151:   8%|▊         | 4/50 [00:00<00:01, 38.37batch/s]"
     ]
    },
    {
     "name": "stdout",
     "output_type": "stream",
     "text": [
      "loss training: 0.015506\n",
      "accuracy train: 1.000000 test: 0.850000\n",
      "\n",
      "Parameter containing:\n",
      "tensor([0., 0., 0., 0.], device='cuda:0', requires_grad=True)\n"
     ]
    },
    {
     "name": "stderr",
     "output_type": "stream",
     "text": [
      "epoch: 151: 100%|██████████| 50/50 [00:01<00:00, 34.68batch/s]\n",
      "epoch: 152:   8%|▊         | 4/50 [00:00<00:01, 39.20batch/s]"
     ]
    },
    {
     "name": "stdout",
     "output_type": "stream",
     "text": [
      "loss training: 0.017861\n",
      "accuracy train: 1.000000 test: 0.800000\n",
      "\n",
      "Parameter containing:\n",
      "tensor([0., 0., 0., 0.], device='cuda:0', requires_grad=True)\n"
     ]
    },
    {
     "name": "stderr",
     "output_type": "stream",
     "text": [
      "epoch: 152: 100%|██████████| 50/50 [00:01<00:00, 30.30batch/s]\n",
      "epoch: 153:   8%|▊         | 4/50 [00:00<00:01, 35.36batch/s]"
     ]
    },
    {
     "name": "stdout",
     "output_type": "stream",
     "text": [
      "loss training: 0.014073\n",
      "accuracy train: 1.000000 test: 0.800000\n",
      "\n",
      "Parameter containing:\n",
      "tensor([0., 0., 0., 0.], device='cuda:0', requires_grad=True)\n"
     ]
    },
    {
     "name": "stderr",
     "output_type": "stream",
     "text": [
      "epoch: 153: 100%|██████████| 50/50 [00:01<00:00, 32.49batch/s]\n",
      "epoch: 154:   0%|          | 0/50 [00:00<?, ?batch/s]"
     ]
    },
    {
     "name": "stdout",
     "output_type": "stream",
     "text": [
      "loss training: 0.010198\n",
      "accuracy train: 1.000000 test: 0.800000\n",
      "\n",
      "Parameter containing:\n",
      "tensor([0., 0., 0., 0.], device='cuda:0', requires_grad=True)\n"
     ]
    },
    {
     "name": "stderr",
     "output_type": "stream",
     "text": [
      "epoch: 154: 100%|██████████| 50/50 [00:01<00:00, 37.06batch/s]\n",
      "epoch: 155:   8%|▊         | 4/50 [00:00<00:01, 37.29batch/s]"
     ]
    },
    {
     "name": "stdout",
     "output_type": "stream",
     "text": [
      "loss training: 0.013984\n",
      "accuracy train: 1.000000 test: 0.800000\n",
      "\n",
      "Parameter containing:\n",
      "tensor([0., 0., 0., 0.], device='cuda:0', requires_grad=True)\n"
     ]
    },
    {
     "name": "stderr",
     "output_type": "stream",
     "text": [
      "epoch: 155: 100%|██████████| 50/50 [00:01<00:00, 33.66batch/s]\n",
      "epoch: 156:   8%|▊         | 4/50 [00:00<00:01, 39.47batch/s]"
     ]
    },
    {
     "name": "stdout",
     "output_type": "stream",
     "text": [
      "loss training: 0.011167\n",
      "accuracy train: 1.000000 test: 0.800000\n",
      "\n",
      "Parameter containing:\n",
      "tensor([0., 0., 0., 0.], device='cuda:0', requires_grad=True)\n"
     ]
    },
    {
     "name": "stderr",
     "output_type": "stream",
     "text": [
      "epoch: 156: 100%|██████████| 50/50 [00:01<00:00, 38.42batch/s]\n",
      "epoch: 157:  10%|█         | 5/50 [00:00<00:01, 40.82batch/s]"
     ]
    },
    {
     "name": "stdout",
     "output_type": "stream",
     "text": [
      "loss training: 0.010429\n",
      "accuracy train: 1.000000 test: 0.800000\n",
      "\n",
      "Parameter containing:\n",
      "tensor([0., 0., 0., 0.], device='cuda:0', requires_grad=True)\n"
     ]
    },
    {
     "name": "stderr",
     "output_type": "stream",
     "text": [
      "epoch: 157: 100%|██████████| 50/50 [00:01<00:00, 33.70batch/s]\n",
      "epoch: 158:   8%|▊         | 4/50 [00:00<00:01, 37.17batch/s]"
     ]
    },
    {
     "name": "stdout",
     "output_type": "stream",
     "text": [
      "loss training: 0.014619\n",
      "accuracy train: 1.000000 test: 0.800000\n",
      "\n",
      "Parameter containing:\n",
      "tensor([0., 0., 0., 0.], device='cuda:0', requires_grad=True)\n"
     ]
    },
    {
     "name": "stderr",
     "output_type": "stream",
     "text": [
      "epoch: 158: 100%|██████████| 50/50 [00:01<00:00, 36.92batch/s]\n",
      "epoch: 159:   8%|▊         | 4/50 [00:00<00:01, 38.15batch/s]"
     ]
    },
    {
     "name": "stdout",
     "output_type": "stream",
     "text": [
      "loss training: 0.015434\n",
      "accuracy train: 1.000000 test: 0.800000\n",
      "\n",
      "Parameter containing:\n",
      "tensor([0., 0., 0., 0.], device='cuda:0', requires_grad=True)\n"
     ]
    },
    {
     "name": "stderr",
     "output_type": "stream",
     "text": [
      "epoch: 159: 100%|██████████| 50/50 [00:01<00:00, 36.33batch/s]\n",
      "epoch: 160:   6%|▌         | 3/50 [00:00<00:01, 30.00batch/s]"
     ]
    },
    {
     "name": "stdout",
     "output_type": "stream",
     "text": [
      "loss training: 0.014422\n",
      "accuracy train: 1.000000 test: 0.800000\n",
      "\n",
      "Parameter containing:\n",
      "tensor([0., 0., 0., 0.], device='cuda:0', requires_grad=True)\n"
     ]
    },
    {
     "name": "stderr",
     "output_type": "stream",
     "text": [
      "epoch: 160: 100%|██████████| 50/50 [00:01<00:00, 36.76batch/s]\n",
      "epoch: 161:   8%|▊         | 4/50 [00:00<00:01, 39.75batch/s]"
     ]
    },
    {
     "name": "stdout",
     "output_type": "stream",
     "text": [
      "loss training: 0.014564\n",
      "accuracy train: 1.000000 test: 0.800000\n",
      "\n",
      "Parameter containing:\n",
      "tensor([0., 0., 0., 0.], device='cuda:0', requires_grad=True)\n"
     ]
    },
    {
     "name": "stderr",
     "output_type": "stream",
     "text": [
      "epoch: 161: 100%|██████████| 50/50 [00:01<00:00, 38.01batch/s]\n",
      "epoch: 162:   8%|▊         | 4/50 [00:00<00:01, 36.64batch/s]"
     ]
    },
    {
     "name": "stdout",
     "output_type": "stream",
     "text": [
      "loss training: 0.016874\n",
      "accuracy train: 1.000000 test: 0.800000\n",
      "\n",
      "Parameter containing:\n",
      "tensor([0., 0., 0., 0.], device='cuda:0', requires_grad=True)\n"
     ]
    },
    {
     "name": "stderr",
     "output_type": "stream",
     "text": [
      "epoch: 162: 100%|██████████| 50/50 [00:01<00:00, 37.91batch/s]\n",
      "epoch: 163:   8%|▊         | 4/50 [00:00<00:01, 39.30batch/s]"
     ]
    },
    {
     "name": "stdout",
     "output_type": "stream",
     "text": [
      "loss training: 0.012754\n",
      "accuracy train: 1.000000 test: 0.800000\n",
      "\n",
      "Parameter containing:\n",
      "tensor([0., 0., 0., 0.], device='cuda:0', requires_grad=True)\n"
     ]
    },
    {
     "name": "stderr",
     "output_type": "stream",
     "text": [
      "epoch: 163: 100%|██████████| 50/50 [00:01<00:00, 37.49batch/s]\n",
      "epoch: 164:   8%|▊         | 4/50 [00:00<00:01, 39.92batch/s]"
     ]
    },
    {
     "name": "stdout",
     "output_type": "stream",
     "text": [
      "loss training: 0.016765\n",
      "accuracy train: 1.000000 test: 0.800000\n",
      "\n",
      "Parameter containing:\n",
      "tensor([0., 0., 0., 0.], device='cuda:0', requires_grad=True)\n"
     ]
    },
    {
     "name": "stderr",
     "output_type": "stream",
     "text": [
      "epoch: 164: 100%|██████████| 50/50 [00:01<00:00, 32.82batch/s]\n",
      "epoch: 165:   8%|▊         | 4/50 [00:00<00:01, 38.37batch/s]"
     ]
    },
    {
     "name": "stdout",
     "output_type": "stream",
     "text": [
      "loss training: 0.007692\n",
      "accuracy train: 1.000000 test: 0.800000\n",
      "\n",
      "Parameter containing:\n",
      "tensor([0., 0., 0., 0.], device='cuda:0', requires_grad=True)\n"
     ]
    },
    {
     "name": "stderr",
     "output_type": "stream",
     "text": [
      "epoch: 165: 100%|██████████| 50/50 [00:01<00:00, 37.47batch/s]\n",
      "epoch: 166:   8%|▊         | 4/50 [00:00<00:01, 36.90batch/s]"
     ]
    },
    {
     "name": "stdout",
     "output_type": "stream",
     "text": [
      "loss training: 0.009581\n",
      "accuracy train: 1.000000 test: 0.800000\n",
      "\n",
      "Parameter containing:\n",
      "tensor([0., 0., 0., 0.], device='cuda:0', requires_grad=True)\n"
     ]
    },
    {
     "name": "stderr",
     "output_type": "stream",
     "text": [
      "epoch: 166: 100%|██████████| 50/50 [00:01<00:00, 38.61batch/s]\n",
      "epoch: 167:  10%|█         | 5/50 [00:00<00:01, 39.68batch/s]"
     ]
    },
    {
     "name": "stdout",
     "output_type": "stream",
     "text": [
      "loss training: 0.036596\n",
      "accuracy train: 1.000000 test: 0.800000\n",
      "\n",
      "Parameter containing:\n",
      "tensor([0., 0., 0., 0.], device='cuda:0', requires_grad=True)\n"
     ]
    },
    {
     "name": "stderr",
     "output_type": "stream",
     "text": [
      "epoch: 167: 100%|██████████| 50/50 [00:01<00:00, 36.64batch/s]\n",
      "epoch: 168:   8%|▊         | 4/50 [00:00<00:01, 38.89batch/s]"
     ]
    },
    {
     "name": "stdout",
     "output_type": "stream",
     "text": [
      "loss training: 0.011263\n",
      "accuracy train: 1.000000 test: 0.800000\n",
      "\n",
      "Parameter containing:\n",
      "tensor([0., 0., 0., 0.], device='cuda:0', requires_grad=True)\n"
     ]
    },
    {
     "name": "stderr",
     "output_type": "stream",
     "text": [
      "epoch: 168: 100%|██████████| 50/50 [00:01<00:00, 38.43batch/s]\n",
      "epoch: 169:   8%|▊         | 4/50 [00:00<00:01, 39.08batch/s]"
     ]
    },
    {
     "name": "stdout",
     "output_type": "stream",
     "text": [
      "loss training: 0.021208\n",
      "accuracy train: 1.000000 test: 0.800000\n",
      "\n",
      "Parameter containing:\n",
      "tensor([0., 0., 0., 0.], device='cuda:0', requires_grad=True)\n"
     ]
    },
    {
     "name": "stderr",
     "output_type": "stream",
     "text": [
      "epoch: 169: 100%|██████████| 50/50 [00:01<00:00, 38.39batch/s]\n",
      "epoch: 170:  10%|█         | 5/50 [00:00<00:01, 40.73batch/s]"
     ]
    },
    {
     "name": "stdout",
     "output_type": "stream",
     "text": [
      "loss training: 0.020400\n",
      "accuracy train: 1.000000 test: 0.800000\n",
      "\n",
      "Parameter containing:\n",
      "tensor([0., 0., 0., 0.], device='cuda:0', requires_grad=True)\n"
     ]
    },
    {
     "name": "stderr",
     "output_type": "stream",
     "text": [
      "epoch: 170: 100%|██████████| 50/50 [00:01<00:00, 39.28batch/s]\n",
      "epoch: 171:   8%|▊         | 4/50 [00:00<00:01, 38.37batch/s]"
     ]
    },
    {
     "name": "stdout",
     "output_type": "stream",
     "text": [
      "loss training: 0.013511\n",
      "accuracy train: 1.000000 test: 0.800000\n",
      "\n",
      "Parameter containing:\n",
      "tensor([0., 0., 0., 0.], device='cuda:0', requires_grad=True)\n"
     ]
    },
    {
     "name": "stderr",
     "output_type": "stream",
     "text": [
      "epoch: 171: 100%|██████████| 50/50 [00:01<00:00, 38.82batch/s]\n",
      "epoch: 172:  10%|█         | 5/50 [00:00<00:01, 40.24batch/s]"
     ]
    },
    {
     "name": "stdout",
     "output_type": "stream",
     "text": [
      "loss training: 0.009809\n",
      "accuracy train: 1.000000 test: 0.800000\n",
      "\n",
      "Parameter containing:\n",
      "tensor([0., 0., 0., 0.], device='cuda:0', requires_grad=True)\n"
     ]
    },
    {
     "name": "stderr",
     "output_type": "stream",
     "text": [
      "epoch: 172: 100%|██████████| 50/50 [00:01<00:00, 39.14batch/s]\n",
      "epoch: 173:   8%|▊         | 4/50 [00:00<00:01, 36.51batch/s]"
     ]
    },
    {
     "name": "stdout",
     "output_type": "stream",
     "text": [
      "loss training: 0.013022\n",
      "accuracy train: 1.000000 test: 0.800000\n",
      "\n",
      "Parameter containing:\n",
      "tensor([0., 0., 0., 0.], device='cuda:0', requires_grad=True)\n"
     ]
    },
    {
     "name": "stderr",
     "output_type": "stream",
     "text": [
      "epoch: 173: 100%|██████████| 50/50 [00:01<00:00, 39.12batch/s]\n",
      "epoch: 174:  10%|█         | 5/50 [00:00<00:01, 40.60batch/s]"
     ]
    },
    {
     "name": "stdout",
     "output_type": "stream",
     "text": [
      "loss training: 0.009213\n",
      "accuracy train: 1.000000 test: 0.800000\n",
      "\n",
      "Parameter containing:\n",
      "tensor([0., 0., 0., 0.], device='cuda:0', requires_grad=True)\n"
     ]
    },
    {
     "name": "stderr",
     "output_type": "stream",
     "text": [
      "epoch: 174: 100%|██████████| 50/50 [00:01<00:00, 39.42batch/s]\n",
      "epoch: 175:   8%|▊         | 4/50 [00:00<00:01, 39.88batch/s]"
     ]
    },
    {
     "name": "stdout",
     "output_type": "stream",
     "text": [
      "loss training: 0.013224\n",
      "accuracy train: 1.000000 test: 0.850000\n",
      "\n",
      "Parameter containing:\n",
      "tensor([0., 0., 0., 0.], device='cuda:0', requires_grad=True)\n"
     ]
    },
    {
     "name": "stderr",
     "output_type": "stream",
     "text": [
      "epoch: 175: 100%|██████████| 50/50 [00:01<00:00, 37.70batch/s]\n",
      "epoch: 176:  10%|█         | 5/50 [00:00<00:01, 40.66batch/s]"
     ]
    },
    {
     "name": "stdout",
     "output_type": "stream",
     "text": [
      "loss training: 0.012001\n",
      "accuracy train: 1.000000 test: 0.800000\n",
      "\n",
      "Parameter containing:\n",
      "tensor([0., 0., 0., 0.], device='cuda:0', requires_grad=True)\n"
     ]
    },
    {
     "name": "stderr",
     "output_type": "stream",
     "text": [
      "epoch: 176: 100%|██████████| 50/50 [00:01<00:00, 38.38batch/s]\n",
      "epoch: 177:   8%|▊         | 4/50 [00:00<00:01, 36.72batch/s]"
     ]
    },
    {
     "name": "stdout",
     "output_type": "stream",
     "text": [
      "loss training: 0.013906\n",
      "accuracy train: 1.000000 test: 0.800000\n",
      "\n",
      "Parameter containing:\n",
      "tensor([0., 0., 0., 0.], device='cuda:0', requires_grad=True)\n"
     ]
    },
    {
     "name": "stderr",
     "output_type": "stream",
     "text": [
      "epoch: 177: 100%|██████████| 50/50 [00:01<00:00, 37.10batch/s]\n",
      "epoch: 178:   8%|▊         | 4/50 [00:00<00:01, 35.97batch/s]"
     ]
    },
    {
     "name": "stdout",
     "output_type": "stream",
     "text": [
      "loss training: 0.012983\n",
      "accuracy train: 1.000000 test: 0.800000\n",
      "\n",
      "Parameter containing:\n",
      "tensor([0., 0., 0., 0.], device='cuda:0', requires_grad=True)\n"
     ]
    },
    {
     "name": "stderr",
     "output_type": "stream",
     "text": [
      "epoch: 178: 100%|██████████| 50/50 [00:01<00:00, 37.72batch/s]\n",
      "epoch: 179:  10%|█         | 5/50 [00:00<00:01, 40.71batch/s]"
     ]
    },
    {
     "name": "stdout",
     "output_type": "stream",
     "text": [
      "loss training: 0.014577\n",
      "accuracy train: 1.000000 test: 0.800000\n",
      "\n",
      "Parameter containing:\n",
      "tensor([0., 0., 0., 0.], device='cuda:0', requires_grad=True)\n"
     ]
    },
    {
     "name": "stderr",
     "output_type": "stream",
     "text": [
      "epoch: 179: 100%|██████████| 50/50 [00:01<00:00, 34.46batch/s]\n",
      "epoch: 180:   8%|▊         | 4/50 [00:00<00:01, 31.36batch/s]"
     ]
    },
    {
     "name": "stdout",
     "output_type": "stream",
     "text": [
      "loss training: 0.009590\n",
      "accuracy train: 1.000000 test: 0.750000\n",
      "\n",
      "Parameter containing:\n",
      "tensor([0., 0., 0., 0.], device='cuda:0', requires_grad=True)\n"
     ]
    },
    {
     "name": "stderr",
     "output_type": "stream",
     "text": [
      "epoch: 180: 100%|██████████| 50/50 [00:01<00:00, 33.37batch/s]\n",
      "epoch: 181:   8%|▊         | 4/50 [00:00<00:01, 38.48batch/s]"
     ]
    },
    {
     "name": "stdout",
     "output_type": "stream",
     "text": [
      "loss training: 0.009010\n",
      "accuracy train: 1.000000 test: 0.800000\n",
      "\n",
      "Parameter containing:\n",
      "tensor([0., 0., 0., 0.], device='cuda:0', requires_grad=True)\n"
     ]
    },
    {
     "name": "stderr",
     "output_type": "stream",
     "text": [
      "epoch: 181: 100%|██████████| 50/50 [00:01<00:00, 35.68batch/s]\n",
      "epoch: 182:   8%|▊         | 4/50 [00:00<00:01, 38.28batch/s]"
     ]
    },
    {
     "name": "stdout",
     "output_type": "stream",
     "text": [
      "loss training: 0.007700\n",
      "accuracy train: 1.000000 test: 0.800000\n",
      "\n",
      "Parameter containing:\n",
      "tensor([0., 0., 0., 0.], device='cuda:0', requires_grad=True)\n"
     ]
    },
    {
     "name": "stderr",
     "output_type": "stream",
     "text": [
      "epoch: 182: 100%|██████████| 50/50 [00:01<00:00, 37.76batch/s]\n",
      "epoch: 183:   8%|▊         | 4/50 [00:00<00:01, 38.61batch/s]"
     ]
    },
    {
     "name": "stdout",
     "output_type": "stream",
     "text": [
      "loss training: 0.017132\n",
      "accuracy train: 1.000000 test: 0.800000\n",
      "\n",
      "Parameter containing:\n",
      "tensor([0., 0., 0., 0.], device='cuda:0', requires_grad=True)\n"
     ]
    },
    {
     "name": "stderr",
     "output_type": "stream",
     "text": [
      "epoch: 183: 100%|██████████| 50/50 [00:01<00:00, 39.02batch/s]\n",
      "epoch: 184:   8%|▊         | 4/50 [00:00<00:01, 37.39batch/s]"
     ]
    },
    {
     "name": "stdout",
     "output_type": "stream",
     "text": [
      "loss training: 0.013991\n",
      "accuracy train: 1.000000 test: 0.800000\n",
      "\n",
      "Parameter containing:\n",
      "tensor([0., 0., 0., 0.], device='cuda:0', requires_grad=True)\n"
     ]
    },
    {
     "name": "stderr",
     "output_type": "stream",
     "text": [
      "epoch: 184: 100%|██████████| 50/50 [00:01<00:00, 36.86batch/s]\n",
      "epoch: 185:   8%|▊         | 4/50 [00:00<00:01, 37.04batch/s]"
     ]
    },
    {
     "name": "stdout",
     "output_type": "stream",
     "text": [
      "loss training: 0.020508\n",
      "accuracy train: 1.000000 test: 0.800000\n",
      "\n",
      "Parameter containing:\n",
      "tensor([0., 0., 0., 0.], device='cuda:0', requires_grad=True)\n"
     ]
    },
    {
     "name": "stderr",
     "output_type": "stream",
     "text": [
      "epoch: 185: 100%|██████████| 50/50 [00:01<00:00, 37.69batch/s]\n",
      "epoch: 186:   8%|▊         | 4/50 [00:00<00:01, 30.03batch/s]"
     ]
    },
    {
     "name": "stdout",
     "output_type": "stream",
     "text": [
      "loss training: 0.022877\n",
      "accuracy train: 1.000000 test: 0.800000\n",
      "\n",
      "Parameter containing:\n",
      "tensor([0., 0., 0., 0.], device='cuda:0', requires_grad=True)\n"
     ]
    },
    {
     "name": "stderr",
     "output_type": "stream",
     "text": [
      "epoch: 186: 100%|██████████| 50/50 [00:01<00:00, 38.30batch/s]\n",
      "epoch: 187:  10%|█         | 5/50 [00:00<00:01, 38.91batch/s]"
     ]
    },
    {
     "name": "stdout",
     "output_type": "stream",
     "text": [
      "loss training: 0.012604\n",
      "accuracy train: 1.000000 test: 0.800000\n",
      "\n",
      "Parameter containing:\n",
      "tensor([0., 0., 0., 0.], device='cuda:0', requires_grad=True)\n"
     ]
    },
    {
     "name": "stderr",
     "output_type": "stream",
     "text": [
      "epoch: 187: 100%|██████████| 50/50 [00:01<00:00, 37.34batch/s]\n",
      "epoch: 188:   8%|▊         | 4/50 [00:00<00:01, 36.95batch/s]"
     ]
    },
    {
     "name": "stdout",
     "output_type": "stream",
     "text": [
      "loss training: 0.007742\n",
      "accuracy train: 1.000000 test: 0.800000\n",
      "\n",
      "Parameter containing:\n",
      "tensor([0., 0., 0., 0.], device='cuda:0', requires_grad=True)\n"
     ]
    },
    {
     "name": "stderr",
     "output_type": "stream",
     "text": [
      "epoch: 188: 100%|██████████| 50/50 [00:01<00:00, 38.26batch/s]\n",
      "epoch: 189:   8%|▊         | 4/50 [00:00<00:01, 36.22batch/s]"
     ]
    },
    {
     "name": "stdout",
     "output_type": "stream",
     "text": [
      "loss training: 0.020192\n",
      "accuracy train: 1.000000 test: 0.850000\n",
      "\n",
      "Parameter containing:\n",
      "tensor([0., 0., 0., 0.], device='cuda:0', requires_grad=True)\n"
     ]
    },
    {
     "name": "stderr",
     "output_type": "stream",
     "text": [
      "epoch: 189: 100%|██████████| 50/50 [00:01<00:00, 30.19batch/s]\n",
      "epoch: 190:  10%|█         | 5/50 [00:00<00:01, 40.21batch/s]"
     ]
    },
    {
     "name": "stdout",
     "output_type": "stream",
     "text": [
      "loss training: 0.050703\n",
      "accuracy train: 1.000000 test: 0.750000\n",
      "\n",
      "Parameter containing:\n",
      "tensor([0., 0., 0., 0.], device='cuda:0', requires_grad=True)\n"
     ]
    },
    {
     "name": "stderr",
     "output_type": "stream",
     "text": [
      "epoch: 190: 100%|██████████| 50/50 [00:01<00:00, 36.83batch/s]\n",
      "epoch: 191:   8%|▊         | 4/50 [00:00<00:01, 39.82batch/s]"
     ]
    },
    {
     "name": "stdout",
     "output_type": "stream",
     "text": [
      "loss training: 0.011705\n",
      "accuracy train: 1.000000 test: 0.800000\n",
      "\n",
      "Parameter containing:\n",
      "tensor([0., 0., 0., 0.], device='cuda:0', requires_grad=True)\n"
     ]
    },
    {
     "name": "stderr",
     "output_type": "stream",
     "text": [
      "epoch: 191: 100%|██████████| 50/50 [00:01<00:00, 38.66batch/s]\n",
      "epoch: 192:  10%|█         | 5/50 [00:00<00:01, 40.30batch/s]"
     ]
    },
    {
     "name": "stdout",
     "output_type": "stream",
     "text": [
      "loss training: 0.021786\n",
      "accuracy train: 1.000000 test: 0.800000\n",
      "\n",
      "Parameter containing:\n",
      "tensor([0., 0., 0., 0.], device='cuda:0', requires_grad=True)\n"
     ]
    },
    {
     "name": "stderr",
     "output_type": "stream",
     "text": [
      "epoch: 192: 100%|██████████| 50/50 [00:01<00:00, 38.31batch/s]\n",
      "epoch: 193:   8%|▊         | 4/50 [00:00<00:01, 37.85batch/s]"
     ]
    },
    {
     "name": "stdout",
     "output_type": "stream",
     "text": [
      "loss training: 0.013971\n",
      "accuracy train: 1.000000 test: 0.800000\n",
      "\n",
      "Parameter containing:\n",
      "tensor([0., 0., 0., 0.], device='cuda:0', requires_grad=True)\n"
     ]
    },
    {
     "name": "stderr",
     "output_type": "stream",
     "text": [
      "epoch: 193: 100%|██████████| 50/50 [00:01<00:00, 36.12batch/s]\n",
      "epoch: 194:   8%|▊         | 4/50 [00:00<00:01, 39.22batch/s]"
     ]
    },
    {
     "name": "stdout",
     "output_type": "stream",
     "text": [
      "loss training: 0.008983\n",
      "accuracy train: 1.000000 test: 0.800000\n",
      "\n",
      "Parameter containing:\n",
      "tensor([0., 0., 0., 0.], device='cuda:0', requires_grad=True)\n"
     ]
    },
    {
     "name": "stderr",
     "output_type": "stream",
     "text": [
      "epoch: 194: 100%|██████████| 50/50 [00:01<00:00, 36.66batch/s]\n",
      "epoch: 195:   8%|▊         | 4/50 [00:00<00:01, 39.90batch/s]"
     ]
    },
    {
     "name": "stdout",
     "output_type": "stream",
     "text": [
      "loss training: 0.008459\n",
      "accuracy train: 1.000000 test: 0.800000\n",
      "\n",
      "Parameter containing:\n",
      "tensor([0., 0., 0., 0.], device='cuda:0', requires_grad=True)\n"
     ]
    },
    {
     "name": "stderr",
     "output_type": "stream",
     "text": [
      "epoch: 195: 100%|██████████| 50/50 [00:01<00:00, 36.02batch/s]\n",
      "epoch: 196:   8%|▊         | 4/50 [00:00<00:01, 36.93batch/s]"
     ]
    },
    {
     "name": "stdout",
     "output_type": "stream",
     "text": [
      "loss training: 0.016044\n",
      "accuracy train: 1.000000 test: 0.800000\n",
      "\n",
      "Parameter containing:\n",
      "tensor([0., 0., 0., 0.], device='cuda:0', requires_grad=True)\n"
     ]
    },
    {
     "name": "stderr",
     "output_type": "stream",
     "text": [
      "epoch: 196: 100%|██████████| 50/50 [00:01<00:00, 38.34batch/s]\n",
      "epoch: 197:  10%|█         | 5/50 [00:00<00:01, 40.74batch/s]"
     ]
    },
    {
     "name": "stdout",
     "output_type": "stream",
     "text": [
      "loss training: 0.012760\n",
      "accuracy train: 1.000000 test: 0.800000\n",
      "\n",
      "Parameter containing:\n",
      "tensor([0., 0., 0., 0.], device='cuda:0', requires_grad=True)\n"
     ]
    },
    {
     "name": "stderr",
     "output_type": "stream",
     "text": [
      "epoch: 197: 100%|██████████| 50/50 [00:01<00:00, 37.70batch/s]\n",
      "epoch: 198:   8%|▊         | 4/50 [00:00<00:01, 39.02batch/s]"
     ]
    },
    {
     "name": "stdout",
     "output_type": "stream",
     "text": [
      "loss training: 0.007777\n",
      "accuracy train: 1.000000 test: 0.800000\n",
      "\n",
      "Parameter containing:\n",
      "tensor([0., 0., 0., 0.], device='cuda:0', requires_grad=True)\n"
     ]
    },
    {
     "name": "stderr",
     "output_type": "stream",
     "text": [
      "epoch: 198: 100%|██████████| 50/50 [00:01<00:00, 37.27batch/s]\n",
      "epoch: 199:   8%|▊         | 4/50 [00:00<00:01, 38.43batch/s]"
     ]
    },
    {
     "name": "stdout",
     "output_type": "stream",
     "text": [
      "loss training: 0.009890\n",
      "accuracy train: 1.000000 test: 0.800000\n",
      "\n",
      "Parameter containing:\n",
      "tensor([0., 0., 0., 0.], device='cuda:0', requires_grad=True)\n"
     ]
    },
    {
     "name": "stderr",
     "output_type": "stream",
     "text": [
      "epoch: 199: 100%|██████████| 50/50 [00:01<00:00, 38.46batch/s]\n",
      "epoch: 200:   8%|▊         | 4/50 [00:00<00:01, 38.02batch/s]"
     ]
    },
    {
     "name": "stdout",
     "output_type": "stream",
     "text": [
      "loss training: 0.015970\n",
      "accuracy train: 1.000000 test: 0.800000\n",
      "\n",
      "Parameter containing:\n",
      "tensor([0., 0., 0., 0.], device='cuda:0', requires_grad=True)\n"
     ]
    },
    {
     "name": "stderr",
     "output_type": "stream",
     "text": [
      "epoch: 200: 100%|██████████| 50/50 [00:01<00:00, 35.68batch/s]\n",
      "epoch: 201:  10%|█         | 5/50 [00:00<00:01, 40.64batch/s]"
     ]
    },
    {
     "name": "stdout",
     "output_type": "stream",
     "text": [
      "loss training: 0.014226\n",
      "accuracy train: 1.000000 test: 0.800000\n",
      "\n",
      "Parameter containing:\n",
      "tensor([0., 0., 0., 0.], device='cuda:0', requires_grad=True)\n"
     ]
    },
    {
     "name": "stderr",
     "output_type": "stream",
     "text": [
      "epoch: 201: 100%|██████████| 50/50 [00:01<00:00, 38.57batch/s]\n",
      "epoch: 202:   8%|▊         | 4/50 [00:00<00:01, 38.90batch/s]"
     ]
    },
    {
     "name": "stdout",
     "output_type": "stream",
     "text": [
      "loss training: 0.011781\n",
      "accuracy train: 1.000000 test: 0.800000\n",
      "\n",
      "Parameter containing:\n",
      "tensor([0., 0., 0., 0.], device='cuda:0', requires_grad=True)\n"
     ]
    },
    {
     "name": "stderr",
     "output_type": "stream",
     "text": [
      "epoch: 202: 100%|██████████| 50/50 [00:01<00:00, 38.15batch/s]\n",
      "epoch: 203:  10%|█         | 5/50 [00:00<00:01, 40.22batch/s]"
     ]
    },
    {
     "name": "stdout",
     "output_type": "stream",
     "text": [
      "loss training: 0.013049\n",
      "accuracy train: 1.000000 test: 0.800000\n",
      "\n",
      "Parameter containing:\n",
      "tensor([0., 0., 0., 0.], device='cuda:0', requires_grad=True)\n"
     ]
    },
    {
     "name": "stderr",
     "output_type": "stream",
     "text": [
      "epoch: 203:  74%|███████▍  | 37/50 [00:00<00:00, 39.01batch/s]"
     ]
    },
    {
     "ename": "KeyboardInterrupt",
     "evalue": "",
     "output_type": "error",
     "traceback": [
      "\u001b[0;31m---------------------------------------------------------------------------\u001b[0m",
      "\u001b[0;31mKeyboardInterrupt\u001b[0m                         Traceback (most recent call last)",
      "\u001b[0;32m<ipython-input-10-20a5632b65ac>\u001b[0m in \u001b[0;36m<module>\u001b[0;34m\u001b[0m\n\u001b[1;32m      2\u001b[0m     \u001b[0mscheduler\u001b[0m\u001b[0;34m.\u001b[0m\u001b[0mstep\u001b[0m\u001b[0;34m(\u001b[0m\u001b[0;34m)\u001b[0m\u001b[0;34m\u001b[0m\u001b[0;34m\u001b[0m\u001b[0m\n\u001b[1;32m      3\u001b[0m \u001b[0;34m\u001b[0m\u001b[0m\n\u001b[0;32m----> 4\u001b[0;31m     \u001b[0mavg_loss\u001b[0m \u001b[0;34m=\u001b[0m \u001b[0mtrain\u001b[0m\u001b[0;34m(\u001b[0m\u001b[0margs\u001b[0m\u001b[0;34m,\u001b[0m \u001b[0mmodel\u001b[0m\u001b[0;34m,\u001b[0m \u001b[0mdevice\u001b[0m\u001b[0;34m,\u001b[0m \u001b[0mtrain_graphs\u001b[0m\u001b[0;34m,\u001b[0m \u001b[0moptimizer\u001b[0m\u001b[0;34m,\u001b[0m \u001b[0mepoch\u001b[0m\u001b[0;34m)\u001b[0m\u001b[0;34m\u001b[0m\u001b[0;34m\u001b[0m\u001b[0m\n\u001b[0m\u001b[1;32m      5\u001b[0m     \u001b[0macc_train\u001b[0m\u001b[0;34m,\u001b[0m \u001b[0macc_test\u001b[0m \u001b[0;34m=\u001b[0m \u001b[0mtest\u001b[0m\u001b[0;34m(\u001b[0m\u001b[0margs\u001b[0m\u001b[0;34m,\u001b[0m \u001b[0mmodel\u001b[0m\u001b[0;34m,\u001b[0m \u001b[0mdevice\u001b[0m\u001b[0;34m,\u001b[0m \u001b[0mtrain_graphs\u001b[0m\u001b[0;34m,\u001b[0m \u001b[0mtest_graphs\u001b[0m\u001b[0;34m,\u001b[0m \u001b[0mepoch\u001b[0m\u001b[0;34m)\u001b[0m\u001b[0;34m\u001b[0m\u001b[0;34m\u001b[0m\u001b[0m\n\u001b[1;32m      6\u001b[0m \u001b[0;34m\u001b[0m\u001b[0m\n",
      "\u001b[0;32m<ipython-input-7-468024a35b1d>\u001b[0m in \u001b[0;36mtrain\u001b[0;34m(args, model, device, train_graphs, optimizer, epoch)\u001b[0m\n\u001b[1;32m     22\u001b[0m         \u001b[0;32mif\u001b[0m \u001b[0moptimizer\u001b[0m \u001b[0;32mis\u001b[0m \u001b[0;32mnot\u001b[0m \u001b[0;32mNone\u001b[0m\u001b[0;34m:\u001b[0m\u001b[0;34m\u001b[0m\u001b[0;34m\u001b[0m\u001b[0m\n\u001b[1;32m     23\u001b[0m             \u001b[0moptimizer\u001b[0m\u001b[0;34m.\u001b[0m\u001b[0mzero_grad\u001b[0m\u001b[0;34m(\u001b[0m\u001b[0;34m)\u001b[0m\u001b[0;34m\u001b[0m\u001b[0;34m\u001b[0m\u001b[0m\n\u001b[0;32m---> 24\u001b[0;31m             \u001b[0mloss\u001b[0m\u001b[0;34m.\u001b[0m\u001b[0mbackward\u001b[0m\u001b[0;34m(\u001b[0m\u001b[0;34m)\u001b[0m\u001b[0;34m\u001b[0m\u001b[0;34m\u001b[0m\u001b[0m\n\u001b[0m\u001b[1;32m     25\u001b[0m             \u001b[0moptimizer\u001b[0m\u001b[0;34m.\u001b[0m\u001b[0mstep\u001b[0m\u001b[0;34m(\u001b[0m\u001b[0;34m)\u001b[0m\u001b[0;34m\u001b[0m\u001b[0;34m\u001b[0m\u001b[0m\n\u001b[1;32m     26\u001b[0m \u001b[0;34m\u001b[0m\u001b[0m\n",
      "\u001b[0;32m~/miniconda3/lib/python3.7/site-packages/torch/tensor.py\u001b[0m in \u001b[0;36mbackward\u001b[0;34m(self, gradient, retain_graph, create_graph)\u001b[0m\n\u001b[1;32m    148\u001b[0m                 \u001b[0mproducts\u001b[0m\u001b[0;34m.\u001b[0m \u001b[0mDefaults\u001b[0m \u001b[0mto\u001b[0m\u001b[0;31m \u001b[0m\u001b[0;31m`\u001b[0m\u001b[0;31m`\u001b[0m\u001b[0;32mFalse\u001b[0m\u001b[0;31m`\u001b[0m\u001b[0;31m`\u001b[0m\u001b[0;34m.\u001b[0m\u001b[0;34m\u001b[0m\u001b[0;34m\u001b[0m\u001b[0m\n\u001b[1;32m    149\u001b[0m         \"\"\"\n\u001b[0;32m--> 150\u001b[0;31m         \u001b[0mtorch\u001b[0m\u001b[0;34m.\u001b[0m\u001b[0mautograd\u001b[0m\u001b[0;34m.\u001b[0m\u001b[0mbackward\u001b[0m\u001b[0;34m(\u001b[0m\u001b[0mself\u001b[0m\u001b[0;34m,\u001b[0m \u001b[0mgradient\u001b[0m\u001b[0;34m,\u001b[0m \u001b[0mretain_graph\u001b[0m\u001b[0;34m,\u001b[0m \u001b[0mcreate_graph\u001b[0m\u001b[0;34m)\u001b[0m\u001b[0;34m\u001b[0m\u001b[0;34m\u001b[0m\u001b[0m\n\u001b[0m\u001b[1;32m    151\u001b[0m \u001b[0;34m\u001b[0m\u001b[0m\n\u001b[1;32m    152\u001b[0m     \u001b[0;32mdef\u001b[0m \u001b[0mregister_hook\u001b[0m\u001b[0;34m(\u001b[0m\u001b[0mself\u001b[0m\u001b[0;34m,\u001b[0m \u001b[0mhook\u001b[0m\u001b[0;34m)\u001b[0m\u001b[0;34m:\u001b[0m\u001b[0;34m\u001b[0m\u001b[0;34m\u001b[0m\u001b[0m\n",
      "\u001b[0;32m~/miniconda3/lib/python3.7/site-packages/torch/autograd/__init__.py\u001b[0m in \u001b[0;36mbackward\u001b[0;34m(tensors, grad_tensors, retain_graph, create_graph, grad_variables)\u001b[0m\n\u001b[1;32m     97\u001b[0m     Variable._execution_engine.run_backward(\n\u001b[1;32m     98\u001b[0m         \u001b[0mtensors\u001b[0m\u001b[0;34m,\u001b[0m \u001b[0mgrad_tensors\u001b[0m\u001b[0;34m,\u001b[0m \u001b[0mretain_graph\u001b[0m\u001b[0;34m,\u001b[0m \u001b[0mcreate_graph\u001b[0m\u001b[0;34m,\u001b[0m\u001b[0;34m\u001b[0m\u001b[0;34m\u001b[0m\u001b[0m\n\u001b[0;32m---> 99\u001b[0;31m         allow_unreachable=True)  # allow_unreachable flag\n\u001b[0m\u001b[1;32m    100\u001b[0m \u001b[0;34m\u001b[0m\u001b[0m\n\u001b[1;32m    101\u001b[0m \u001b[0;34m\u001b[0m\u001b[0m\n",
      "\u001b[0;31mKeyboardInterrupt\u001b[0m: "
     ]
    }
   ],
   "source": [
    "for epoch in range(1, args.epochs + 1):\n",
    "    scheduler.step()\n",
    "\n",
    "    avg_loss = train(args, model, device, train_graphs, optimizer, epoch)\n",
    "    acc_train, acc_test = test(args, model, device, train_graphs, test_graphs, epoch)\n",
    "\n",
    "    if not args.filename == \"\":\n",
    "        with open(args.filename, 'w') as f:\n",
    "            f.write(\"%f %f %f\" % (avg_loss, acc_train, acc_test))\n",
    "            f.write(\"\\n\")\n",
    "    print(\"\")\n",
    "\n",
    "    print(model.eps)"
   ]
  },
  {
   "cell_type": "code",
   "execution_count": null,
   "metadata": {},
   "outputs": [],
   "source": []
  }
 ],
 "metadata": {
  "kernelspec": {
   "display_name": "Python 3",
   "language": "python",
   "name": "python3"
  },
  "language_info": {
   "codemirror_mode": {
    "name": "ipython",
    "version": 3
   },
   "file_extension": ".py",
   "mimetype": "text/x-python",
   "name": "python",
   "nbconvert_exporter": "python",
   "pygments_lexer": "ipython3",
   "version": "3.7.4"
  }
 },
 "nbformat": 4,
 "nbformat_minor": 2
}
